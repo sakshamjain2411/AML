{
 "cells": [
  {
   "cell_type": "markdown",
   "source": "## Student BITS ID: 2020hs70033\n\n## Student Name: Saksham Jain\n",
   "metadata": {
    "cell_id": "1dba09e1-1502-4926-bb76-12471ea3f710",
    "deepnote_cell_type": "markdown",
    "deepnote_cell_height": 136
   }
  },
  {
   "cell_type": "markdown",
   "source": "# Work to do:\n\nThe student can choose  any prediction task or clustering (from below) and implement it using Python.  The Student can also choose any dataset from UCI / Kaggle or any other public dataset.\nFor example, if you choose a regression task, then the dataset should be such that the regression can be performed on the dataset. The ML algos to be implemented will be linear regression and Random forest regressor. Evaluate the ML algorithms appropriately using any of the evaluation metrics​ learned. Perform hyper-parameter tuning.\n\nRestiction: Use only sklearn library for the ML tasks.\n\n1. Classification\n    1.1 Logistic regression\n    1.2 SVM\n    1.3 Decision Tree or Random Forest classifier \n\n2. Regression\n    2.1 Linear regression\n    2.2 Random Forest regression\n\n3. Clustering\n    3.1 kmeans algorithm\n    3.2 EM algorithm\n\n4. For textual data\n    4.1 NB classifier \n    4.2 Logistic regression\n\n\nThe student is instructed to submit a word document to explain the chosen data and ML algos, explain and justify why one algo works better than the other. Use the experiments to support your argument.\n\nStudents are instructed to submit  ipynb, pdf of the Python implementation and report as a word document.\n\n",
   "metadata": {
    "cell_id": "00001-3d9258e2-86a0-4a4d-bfab-b6fb4725baaf",
    "deepnote_cell_type": "markdown",
    "deepnote_cell_height": 454.1875
   }
  },
  {
   "cell_type": "code",
   "metadata": {
    "cell_id": "60ece7717432469b80c9d2f6ba5cd9ee",
    "tags": [],
    "deepnote_to_be_reexecuted": false,
    "source_hash": "4660ab67",
    "execution_start": 1652546602626,
    "execution_millis": 3574,
    "deepnote_cell_type": "code",
    "deepnote_cell_height": 153
   },
   "source": "import os, urllib\nimport pandas as pd\nimport numpy as np\nimport seaborn as sns\nimport matplotlib.pyplot as plt",
   "execution_count": 1,
   "outputs": []
  },
  {
   "cell_type": "markdown",
   "source": "# 1. Data Acquisition\n \nFor the problem identified by you, students have to find the data source themselves from any data source.\n\n## 1.1 Download the data directly\n\n",
   "metadata": {
    "cell_id": "00002-4d19a4ed-e60f-401b-826b-60eb067eb965",
    "deepnote_cell_type": "markdown",
    "deepnote_cell_height": 174.390625
   }
  },
  {
   "cell_type": "code",
   "metadata": {
    "cell_id": "00003-96f2ad52-9cf4-42a6-a097-bc20133c0ad3",
    "deepnote_to_be_reexecuted": false,
    "source_hash": "c763c6ac",
    "execution_start": 1652546606209,
    "execution_millis": 147,
    "deepnote_cell_type": "code",
    "deepnote_cell_height": 172.1875,
    "deepnote_output_heights": [
     21.1875
    ]
   },
   "source": "##---------Type the code below this line-----------------##\nurl = \"https://raw.githubusercontent.com/sakshamjain2411/AML/main/train.csv\"\ncsv_file_path = \"train.csv\"\nurllib.request.urlretrieve(url, csv_file_path)",
   "execution_count": 2,
   "outputs": [
    {
     "output_type": "execute_result",
     "execution_count": 2,
     "data": {
      "text/plain": "('train.csv', <http.client.HTTPMessage at 0x7fd0b640a690>)"
     },
     "metadata": {}
    }
   ]
  },
  {
   "cell_type": "markdown",
   "source": "## 1.2 Code for converting the above downloaded data into a dataframe",
   "metadata": {
    "cell_id": "00004-1c61224c-1b25-48e8-80fe-447fa49991b0",
    "deepnote_cell_type": "markdown",
    "deepnote_cell_height": 110
   }
  },
  {
   "cell_type": "code",
   "metadata": {
    "cell_id": "00005-635f9040-1926-4cf2-84e7-2f21248d4644",
    "deepnote_to_be_reexecuted": false,
    "source_hash": "767645e5",
    "execution_start": 1652546606364,
    "execution_millis": 42,
    "deepnote_cell_type": "code",
    "deepnote_cell_height": 81
   },
   "source": "data = pd.read_csv(\"train.csv\")",
   "execution_count": 3,
   "outputs": []
  },
  {
   "cell_type": "markdown",
   "source": "## 1.3 Confirm the data has been correctly by displaying the first 5 and last 5 records.",
   "metadata": {
    "cell_id": "00006-688440fa-5891-476b-9842-48d65e708ba4",
    "deepnote_cell_type": "markdown",
    "deepnote_cell_height": 110
   }
  },
  {
   "cell_type": "code",
   "metadata": {
    "cell_id": "00007-57530c13-a321-4fb3-ad6c-a680bb4c807f",
    "deepnote_to_be_reexecuted": false,
    "source_hash": "e37e4447",
    "execution_start": 1652546606461,
    "execution_millis": 137,
    "deepnote_cell_type": "code",
    "deepnote_cell_height": 429.796875
   },
   "source": "##---------Type the code below this line------------------##\ndata.head()",
   "execution_count": 4,
   "outputs": [
    {
     "output_type": "execute_result",
     "execution_count": 4,
     "data": {
      "application/vnd.deepnote.dataframe.v3+json": {
       "column_count": 21,
       "row_count": 5,
       "columns": [
        {
         "name": "battery_power",
         "dtype": "int64",
         "stats": {
          "unique_count": 5,
          "nan_count": 0,
          "min": "563",
          "max": "1821",
          "histogram": [
           {
            "bin_start": 563,
            "bin_end": 688.8,
            "count": 2
           },
           {
            "bin_start": 688.8,
            "bin_end": 814.6,
            "count": 0
           },
           {
            "bin_start": 814.6,
            "bin_end": 940.4,
            "count": 1
           },
           {
            "bin_start": 940.4,
            "bin_end": 1066.2,
            "count": 1
           },
           {
            "bin_start": 1066.2,
            "bin_end": 1192,
            "count": 0
           },
           {
            "bin_start": 1192,
            "bin_end": 1317.8,
            "count": 0
           },
           {
            "bin_start": 1317.8,
            "bin_end": 1443.6,
            "count": 0
           },
           {
            "bin_start": 1443.6,
            "bin_end": 1569.4,
            "count": 0
           },
           {
            "bin_start": 1569.4,
            "bin_end": 1695.2,
            "count": 0
           },
           {
            "bin_start": 1695.2,
            "bin_end": 1821,
            "count": 1
           }
          ]
         }
        },
        {
         "name": "blue",
         "dtype": "int64",
         "stats": {
          "unique_count": 2,
          "nan_count": 0,
          "min": "0",
          "max": "1",
          "histogram": [
           {
            "bin_start": 0,
            "bin_end": 0.1,
            "count": 1
           },
           {
            "bin_start": 0.1,
            "bin_end": 0.2,
            "count": 0
           },
           {
            "bin_start": 0.2,
            "bin_end": 0.30000000000000004,
            "count": 0
           },
           {
            "bin_start": 0.30000000000000004,
            "bin_end": 0.4,
            "count": 0
           },
           {
            "bin_start": 0.4,
            "bin_end": 0.5,
            "count": 0
           },
           {
            "bin_start": 0.5,
            "bin_end": 0.6000000000000001,
            "count": 0
           },
           {
            "bin_start": 0.6000000000000001,
            "bin_end": 0.7000000000000001,
            "count": 0
           },
           {
            "bin_start": 0.7000000000000001,
            "bin_end": 0.8,
            "count": 0
           },
           {
            "bin_start": 0.8,
            "bin_end": 0.9,
            "count": 0
           },
           {
            "bin_start": 0.9,
            "bin_end": 1,
            "count": 4
           }
          ]
         }
        },
        {
         "name": "clock_speed",
         "dtype": "float64",
         "stats": {
          "unique_count": 4,
          "nan_count": 0,
          "min": "0.5",
          "max": "2.5",
          "histogram": [
           {
            "bin_start": 0.5,
            "bin_end": 0.7,
            "count": 2
           },
           {
            "bin_start": 0.7,
            "bin_end": 0.9,
            "count": 0
           },
           {
            "bin_start": 0.9,
            "bin_end": 1.1,
            "count": 0
           },
           {
            "bin_start": 1.1,
            "bin_end": 1.3,
            "count": 1
           },
           {
            "bin_start": 1.3,
            "bin_end": 1.5,
            "count": 0
           },
           {
            "bin_start": 1.5,
            "bin_end": 1.7000000000000002,
            "count": 0
           },
           {
            "bin_start": 1.7000000000000002,
            "bin_end": 1.9000000000000001,
            "count": 0
           },
           {
            "bin_start": 1.9000000000000001,
            "bin_end": 2.1,
            "count": 0
           },
           {
            "bin_start": 2.1,
            "bin_end": 2.3,
            "count": 1
           },
           {
            "bin_start": 2.3,
            "bin_end": 2.5,
            "count": 1
           }
          ]
         }
        },
        {
         "name": "dual_sim",
         "dtype": "int64",
         "stats": {
          "unique_count": 2,
          "nan_count": 0,
          "min": "0",
          "max": "1",
          "histogram": [
           {
            "bin_start": 0,
            "bin_end": 0.1,
            "count": 3
           },
           {
            "bin_start": 0.1,
            "bin_end": 0.2,
            "count": 0
           },
           {
            "bin_start": 0.2,
            "bin_end": 0.30000000000000004,
            "count": 0
           },
           {
            "bin_start": 0.30000000000000004,
            "bin_end": 0.4,
            "count": 0
           },
           {
            "bin_start": 0.4,
            "bin_end": 0.5,
            "count": 0
           },
           {
            "bin_start": 0.5,
            "bin_end": 0.6000000000000001,
            "count": 0
           },
           {
            "bin_start": 0.6000000000000001,
            "bin_end": 0.7000000000000001,
            "count": 0
           },
           {
            "bin_start": 0.7000000000000001,
            "bin_end": 0.8,
            "count": 0
           },
           {
            "bin_start": 0.8,
            "bin_end": 0.9,
            "count": 0
           },
           {
            "bin_start": 0.9,
            "bin_end": 1,
            "count": 2
           }
          ]
         }
        },
        {
         "name": "fc",
         "dtype": "int64",
         "stats": {
          "unique_count": 4,
          "nan_count": 0,
          "min": "0",
          "max": "13",
          "histogram": [
           {
            "bin_start": 0,
            "bin_end": 1.3,
            "count": 3
           },
           {
            "bin_start": 1.3,
            "bin_end": 2.6,
            "count": 1
           },
           {
            "bin_start": 2.6,
            "bin_end": 3.9000000000000004,
            "count": 0
           },
           {
            "bin_start": 3.9000000000000004,
            "bin_end": 5.2,
            "count": 0
           },
           {
            "bin_start": 5.2,
            "bin_end": 6.5,
            "count": 0
           },
           {
            "bin_start": 6.5,
            "bin_end": 7.800000000000001,
            "count": 0
           },
           {
            "bin_start": 7.800000000000001,
            "bin_end": 9.1,
            "count": 0
           },
           {
            "bin_start": 9.1,
            "bin_end": 10.4,
            "count": 0
           },
           {
            "bin_start": 10.4,
            "bin_end": 11.700000000000001,
            "count": 0
           },
           {
            "bin_start": 11.700000000000001,
            "bin_end": 13,
            "count": 1
           }
          ]
         }
        },
        {
         "name": "four_g",
         "dtype": "int64",
         "stats": {
          "unique_count": 2,
          "nan_count": 0,
          "min": "0",
          "max": "1",
          "histogram": [
           {
            "bin_start": 0,
            "bin_end": 0.1,
            "count": 2
           },
           {
            "bin_start": 0.1,
            "bin_end": 0.2,
            "count": 0
           },
           {
            "bin_start": 0.2,
            "bin_end": 0.30000000000000004,
            "count": 0
           },
           {
            "bin_start": 0.30000000000000004,
            "bin_end": 0.4,
            "count": 0
           },
           {
            "bin_start": 0.4,
            "bin_end": 0.5,
            "count": 0
           },
           {
            "bin_start": 0.5,
            "bin_end": 0.6000000000000001,
            "count": 0
           },
           {
            "bin_start": 0.6000000000000001,
            "bin_end": 0.7000000000000001,
            "count": 0
           },
           {
            "bin_start": 0.7000000000000001,
            "bin_end": 0.8,
            "count": 0
           },
           {
            "bin_start": 0.8,
            "bin_end": 0.9,
            "count": 0
           },
           {
            "bin_start": 0.9,
            "bin_end": 1,
            "count": 3
           }
          ]
         }
        },
        {
         "name": "int_memory",
         "dtype": "int64",
         "stats": {
          "unique_count": 5,
          "nan_count": 0,
          "min": "7",
          "max": "53",
          "histogram": [
           {
            "bin_start": 7,
            "bin_end": 11.6,
            "count": 2
           },
           {
            "bin_start": 11.6,
            "bin_end": 16.2,
            "count": 0
           },
           {
            "bin_start": 16.2,
            "bin_end": 20.799999999999997,
            "count": 0
           },
           {
            "bin_start": 20.799999999999997,
            "bin_end": 25.4,
            "count": 0
           },
           {
            "bin_start": 25.4,
            "bin_end": 30,
            "count": 0
           },
           {
            "bin_start": 30,
            "bin_end": 34.599999999999994,
            "count": 0
           },
           {
            "bin_start": 34.599999999999994,
            "bin_end": 39.199999999999996,
            "count": 0
           },
           {
            "bin_start": 39.199999999999996,
            "bin_end": 43.8,
            "count": 1
           },
           {
            "bin_start": 43.8,
            "bin_end": 48.4,
            "count": 1
           },
           {
            "bin_start": 48.4,
            "bin_end": 53,
            "count": 1
           }
          ]
         }
        },
        {
         "name": "m_dep",
         "dtype": "float64",
         "stats": {
          "unique_count": 4,
          "nan_count": 0,
          "min": "0.6",
          "max": "0.9",
          "histogram": [
           {
            "bin_start": 0.6,
            "bin_end": 0.63,
            "count": 2
           },
           {
            "bin_start": 0.63,
            "bin_end": 0.66,
            "count": 0
           },
           {
            "bin_start": 0.66,
            "bin_end": 0.69,
            "count": 0
           },
           {
            "bin_start": 0.69,
            "bin_end": 0.72,
            "count": 1
           },
           {
            "bin_start": 0.72,
            "bin_end": 0.75,
            "count": 0
           },
           {
            "bin_start": 0.75,
            "bin_end": 0.78,
            "count": 0
           },
           {
            "bin_start": 0.78,
            "bin_end": 0.81,
            "count": 1
           },
           {
            "bin_start": 0.81,
            "bin_end": 0.8400000000000001,
            "count": 0
           },
           {
            "bin_start": 0.8400000000000001,
            "bin_end": 0.8700000000000001,
            "count": 0
           },
           {
            "bin_start": 0.8700000000000001,
            "bin_end": 0.9,
            "count": 1
           }
          ]
         }
        },
        {
         "name": "mobile_wt",
         "dtype": "int64",
         "stats": {
          "unique_count": 5,
          "nan_count": 0,
          "min": "131",
          "max": "188",
          "histogram": [
           {
            "bin_start": 131,
            "bin_end": 136.7,
            "count": 2
           },
           {
            "bin_start": 136.7,
            "bin_end": 142.4,
            "count": 1
           },
           {
            "bin_start": 142.4,
            "bin_end": 148.1,
            "count": 1
           },
           {
            "bin_start": 148.1,
            "bin_end": 153.8,
            "count": 0
           },
           {
            "bin_start": 153.8,
            "bin_end": 159.5,
            "count": 0
           },
           {
            "bin_start": 159.5,
            "bin_end": 165.2,
            "count": 0
           },
           {
            "bin_start": 165.2,
            "bin_end": 170.9,
            "count": 0
           },
           {
            "bin_start": 170.9,
            "bin_end": 176.6,
            "count": 0
           },
           {
            "bin_start": 176.6,
            "bin_end": 182.3,
            "count": 0
           },
           {
            "bin_start": 182.3,
            "bin_end": 188,
            "count": 1
           }
          ]
         }
        },
        {
         "name": "n_cores",
         "dtype": "int64",
         "stats": {
          "unique_count": 4,
          "nan_count": 0,
          "min": "2",
          "max": "6",
          "histogram": [
           {
            "bin_start": 2,
            "bin_end": 2.4,
            "count": 2
           },
           {
            "bin_start": 2.4,
            "bin_end": 2.8,
            "count": 0
           },
           {
            "bin_start": 2.8,
            "bin_end": 3.2,
            "count": 1
           },
           {
            "bin_start": 3.2,
            "bin_end": 3.6,
            "count": 0
           },
           {
            "bin_start": 3.6,
            "bin_end": 4,
            "count": 0
           },
           {
            "bin_start": 4,
            "bin_end": 4.4,
            "count": 0
           },
           {
            "bin_start": 4.4,
            "bin_end": 4.800000000000001,
            "count": 0
           },
           {
            "bin_start": 4.800000000000001,
            "bin_end": 5.2,
            "count": 1
           },
           {
            "bin_start": 5.2,
            "bin_end": 5.6,
            "count": 0
           },
           {
            "bin_start": 5.6,
            "bin_end": 6,
            "count": 1
           }
          ]
         }
        },
        {
         "name": "pc",
         "dtype": "int64",
         "stats": {
          "unique_count": 4,
          "nan_count": 0,
          "min": "2",
          "max": "14",
          "histogram": [
           {
            "bin_start": 2,
            "bin_end": 3.2,
            "count": 1
           },
           {
            "bin_start": 3.2,
            "bin_end": 4.4,
            "count": 0
           },
           {
            "bin_start": 4.4,
            "bin_end": 5.6,
            "count": 0
           },
           {
            "bin_start": 5.6,
            "bin_end": 6.8,
            "count": 2
           },
           {
            "bin_start": 6.8,
            "bin_end": 8,
            "count": 0
           },
           {
            "bin_start": 8,
            "bin_end": 9.2,
            "count": 1
           },
           {
            "bin_start": 9.2,
            "bin_end": 10.4,
            "count": 0
           },
           {
            "bin_start": 10.4,
            "bin_end": 11.6,
            "count": 0
           },
           {
            "bin_start": 11.6,
            "bin_end": 12.799999999999999,
            "count": 0
           },
           {
            "bin_start": 12.799999999999999,
            "bin_end": 14,
            "count": 1
           }
          ]
         }
        },
        {
         "name": "px_height",
         "dtype": "int64",
         "stats": {
          "unique_count": 5,
          "nan_count": 0,
          "min": "20",
          "max": "1263",
          "histogram": [
           {
            "bin_start": 20,
            "bin_end": 144.3,
            "count": 1
           },
           {
            "bin_start": 144.3,
            "bin_end": 268.6,
            "count": 0
           },
           {
            "bin_start": 268.6,
            "bin_end": 392.9,
            "count": 0
           },
           {
            "bin_start": 392.9,
            "bin_end": 517.2,
            "count": 0
           },
           {
            "bin_start": 517.2,
            "bin_end": 641.5,
            "count": 0
           },
           {
            "bin_start": 641.5,
            "bin_end": 765.8,
            "count": 0
           },
           {
            "bin_start": 765.8,
            "bin_end": 890.1,
            "count": 0
           },
           {
            "bin_start": 890.1,
            "bin_end": 1014.4,
            "count": 1
           },
           {
            "bin_start": 1014.4,
            "bin_end": 1138.7,
            "count": 0
           },
           {
            "bin_start": 1138.7,
            "bin_end": 1263,
            "count": 3
           }
          ]
         }
        },
        {
         "name": "px_width",
         "dtype": "int64",
         "stats": {
          "unique_count": 5,
          "nan_count": 0,
          "min": "756",
          "max": "1988",
          "histogram": [
           {
            "bin_start": 756,
            "bin_end": 879.2,
            "count": 1
           },
           {
            "bin_start": 879.2,
            "bin_end": 1002.4,
            "count": 0
           },
           {
            "bin_start": 1002.4,
            "bin_end": 1125.6,
            "count": 0
           },
           {
            "bin_start": 1125.6,
            "bin_end": 1248.8,
            "count": 1
           },
           {
            "bin_start": 1248.8,
            "bin_end": 1372,
            "count": 0
           },
           {
            "bin_start": 1372,
            "bin_end": 1495.2,
            "count": 0
           },
           {
            "bin_start": 1495.2,
            "bin_end": 1618.4,
            "count": 0
           },
           {
            "bin_start": 1618.4,
            "bin_end": 1741.6,
            "count": 1
           },
           {
            "bin_start": 1741.6,
            "bin_end": 1864.8,
            "count": 1
           },
           {
            "bin_start": 1864.8,
            "bin_end": 1988,
            "count": 1
           }
          ]
         }
        },
        {
         "name": "ram",
         "dtype": "int64",
         "stats": {
          "unique_count": 5,
          "nan_count": 0,
          "min": "1411",
          "max": "2769",
          "histogram": [
           {
            "bin_start": 1411,
            "bin_end": 1546.8,
            "count": 1
           },
           {
            "bin_start": 1546.8,
            "bin_end": 1682.6,
            "count": 0
           },
           {
            "bin_start": 1682.6,
            "bin_end": 1818.4,
            "count": 0
           },
           {
            "bin_start": 1818.4,
            "bin_end": 1954.2,
            "count": 0
           },
           {
            "bin_start": 1954.2,
            "bin_end": 2090,
            "count": 0
           },
           {
            "bin_start": 2090,
            "bin_end": 2225.8,
            "count": 0
           },
           {
            "bin_start": 2225.8,
            "bin_end": 2361.6000000000004,
            "count": 0
           },
           {
            "bin_start": 2361.6000000000004,
            "bin_end": 2497.4,
            "count": 0
           },
           {
            "bin_start": 2497.4,
            "bin_end": 2633.2,
            "count": 3
           },
           {
            "bin_start": 2633.2,
            "bin_end": 2769,
            "count": 1
           }
          ]
         }
        },
        {
         "name": "sc_h",
         "dtype": "int64",
         "stats": {
          "unique_count": 5,
          "nan_count": 0,
          "min": "8",
          "max": "17",
          "histogram": [
           {
            "bin_start": 8,
            "bin_end": 8.9,
            "count": 1
           },
           {
            "bin_start": 8.9,
            "bin_end": 9.8,
            "count": 1
           },
           {
            "bin_start": 9.8,
            "bin_end": 10.7,
            "count": 0
           },
           {
            "bin_start": 10.7,
            "bin_end": 11.6,
            "count": 1
           },
           {
            "bin_start": 11.6,
            "bin_end": 12.5,
            "count": 0
           },
           {
            "bin_start": 12.5,
            "bin_end": 13.4,
            "count": 0
           },
           {
            "bin_start": 13.4,
            "bin_end": 14.3,
            "count": 0
           },
           {
            "bin_start": 14.3,
            "bin_end": 15.2,
            "count": 0
           },
           {
            "bin_start": 15.2,
            "bin_end": 16.1,
            "count": 1
           },
           {
            "bin_start": 16.1,
            "bin_end": 17,
            "count": 1
           }
          ]
         }
        },
        {
         "name": "sc_w",
         "dtype": "int64",
         "stats": {
          "unique_count": 4,
          "nan_count": 0,
          "min": "2",
          "max": "8",
          "histogram": [
           {
            "bin_start": 2,
            "bin_end": 2.6,
            "count": 2
           },
           {
            "bin_start": 2.6,
            "bin_end": 3.2,
            "count": 1
           },
           {
            "bin_start": 3.2,
            "bin_end": 3.8,
            "count": 0
           },
           {
            "bin_start": 3.8,
            "bin_end": 4.4,
            "count": 0
           },
           {
            "bin_start": 4.4,
            "bin_end": 5,
            "count": 0
           },
           {
            "bin_start": 5,
            "bin_end": 5.6,
            "count": 0
           },
           {
            "bin_start": 5.6,
            "bin_end": 6.2,
            "count": 0
           },
           {
            "bin_start": 6.2,
            "bin_end": 6.8,
            "count": 0
           },
           {
            "bin_start": 6.8,
            "bin_end": 7.3999999999999995,
            "count": 1
           },
           {
            "bin_start": 7.3999999999999995,
            "bin_end": 8,
            "count": 1
           }
          ]
         }
        },
        {
         "name": "talk_time",
         "dtype": "int64",
         "stats": {
          "unique_count": 5,
          "nan_count": 0,
          "min": "7",
          "max": "19",
          "histogram": [
           {
            "bin_start": 7,
            "bin_end": 8.2,
            "count": 1
           },
           {
            "bin_start": 8.2,
            "bin_end": 9.4,
            "count": 1
           },
           {
            "bin_start": 9.4,
            "bin_end": 10.6,
            "count": 0
           },
           {
            "bin_start": 10.6,
            "bin_end": 11.8,
            "count": 1
           },
           {
            "bin_start": 11.8,
            "bin_end": 13,
            "count": 0
           },
           {
            "bin_start": 13,
            "bin_end": 14.2,
            "count": 0
           },
           {
            "bin_start": 14.2,
            "bin_end": 15.4,
            "count": 1
           },
           {
            "bin_start": 15.4,
            "bin_end": 16.6,
            "count": 0
           },
           {
            "bin_start": 16.6,
            "bin_end": 17.799999999999997,
            "count": 0
           },
           {
            "bin_start": 17.799999999999997,
            "bin_end": 19,
            "count": 1
           }
          ]
         }
        },
        {
         "name": "three_g",
         "dtype": "int64",
         "stats": {
          "unique_count": 2,
          "nan_count": 0,
          "min": "0",
          "max": "1",
          "histogram": [
           {
            "bin_start": 0,
            "bin_end": 0.1,
            "count": 1
           },
           {
            "bin_start": 0.1,
            "bin_end": 0.2,
            "count": 0
           },
           {
            "bin_start": 0.2,
            "bin_end": 0.30000000000000004,
            "count": 0
           },
           {
            "bin_start": 0.30000000000000004,
            "bin_end": 0.4,
            "count": 0
           },
           {
            "bin_start": 0.4,
            "bin_end": 0.5,
            "count": 0
           },
           {
            "bin_start": 0.5,
            "bin_end": 0.6000000000000001,
            "count": 0
           },
           {
            "bin_start": 0.6000000000000001,
            "bin_end": 0.7000000000000001,
            "count": 0
           },
           {
            "bin_start": 0.7000000000000001,
            "bin_end": 0.8,
            "count": 0
           },
           {
            "bin_start": 0.8,
            "bin_end": 0.9,
            "count": 0
           },
           {
            "bin_start": 0.9,
            "bin_end": 1,
            "count": 4
           }
          ]
         }
        },
        {
         "name": "touch_screen",
         "dtype": "int64",
         "stats": {
          "unique_count": 2,
          "nan_count": 0,
          "min": "0",
          "max": "1",
          "histogram": [
           {
            "bin_start": 0,
            "bin_end": 0.1,
            "count": 2
           },
           {
            "bin_start": 0.1,
            "bin_end": 0.2,
            "count": 0
           },
           {
            "bin_start": 0.2,
            "bin_end": 0.30000000000000004,
            "count": 0
           },
           {
            "bin_start": 0.30000000000000004,
            "bin_end": 0.4,
            "count": 0
           },
           {
            "bin_start": 0.4,
            "bin_end": 0.5,
            "count": 0
           },
           {
            "bin_start": 0.5,
            "bin_end": 0.6000000000000001,
            "count": 0
           },
           {
            "bin_start": 0.6000000000000001,
            "bin_end": 0.7000000000000001,
            "count": 0
           },
           {
            "bin_start": 0.7000000000000001,
            "bin_end": 0.8,
            "count": 0
           },
           {
            "bin_start": 0.8,
            "bin_end": 0.9,
            "count": 0
           },
           {
            "bin_start": 0.9,
            "bin_end": 1,
            "count": 3
           }
          ]
         }
        },
        {
         "name": "wifi",
         "dtype": "int64",
         "stats": {
          "unique_count": 2,
          "nan_count": 0,
          "min": "0",
          "max": "1",
          "histogram": [
           {
            "bin_start": 0,
            "bin_end": 0.1,
            "count": 4
           },
           {
            "bin_start": 0.1,
            "bin_end": 0.2,
            "count": 0
           },
           {
            "bin_start": 0.2,
            "bin_end": 0.30000000000000004,
            "count": 0
           },
           {
            "bin_start": 0.30000000000000004,
            "bin_end": 0.4,
            "count": 0
           },
           {
            "bin_start": 0.4,
            "bin_end": 0.5,
            "count": 0
           },
           {
            "bin_start": 0.5,
            "bin_end": 0.6000000000000001,
            "count": 0
           },
           {
            "bin_start": 0.6000000000000001,
            "bin_end": 0.7000000000000001,
            "count": 0
           },
           {
            "bin_start": 0.7000000000000001,
            "bin_end": 0.8,
            "count": 0
           },
           {
            "bin_start": 0.8,
            "bin_end": 0.9,
            "count": 0
           },
           {
            "bin_start": 0.9,
            "bin_end": 1,
            "count": 1
           }
          ]
         }
        },
        {
         "name": "price_range",
         "dtype": "int64",
         "stats": {
          "unique_count": 2,
          "nan_count": 0,
          "min": "1",
          "max": "2",
          "histogram": [
           {
            "bin_start": 1,
            "bin_end": 1.1,
            "count": 2
           },
           {
            "bin_start": 1.1,
            "bin_end": 1.2,
            "count": 0
           },
           {
            "bin_start": 1.2,
            "bin_end": 1.3,
            "count": 0
           },
           {
            "bin_start": 1.3,
            "bin_end": 1.4,
            "count": 0
           },
           {
            "bin_start": 1.4,
            "bin_end": 1.5,
            "count": 0
           },
           {
            "bin_start": 1.5,
            "bin_end": 1.6,
            "count": 0
           },
           {
            "bin_start": 1.6,
            "bin_end": 1.7000000000000002,
            "count": 0
           },
           {
            "bin_start": 1.7000000000000002,
            "bin_end": 1.8,
            "count": 0
           },
           {
            "bin_start": 1.8,
            "bin_end": 1.9,
            "count": 0
           },
           {
            "bin_start": 1.9,
            "bin_end": 2,
            "count": 3
           }
          ]
         }
        },
        {
         "name": "_deepnote_index_column",
         "dtype": "int64"
        }
       ],
       "rows": [
        {
         "battery_power": 842,
         "blue": 0,
         "clock_speed": 2.2,
         "dual_sim": 0,
         "fc": 1,
         "four_g": 0,
         "int_memory": 7,
         "m_dep": 0.6,
         "mobile_wt": 188,
         "n_cores": 2,
         "pc": 2,
         "px_height": 20,
         "px_width": 756,
         "ram": 2549,
         "sc_h": 9,
         "sc_w": 7,
         "talk_time": 19,
         "three_g": 0,
         "touch_screen": 0,
         "wifi": 1,
         "price_range": 1,
         "_deepnote_index_column": 0
        },
        {
         "battery_power": 1021,
         "blue": 1,
         "clock_speed": 0.5,
         "dual_sim": 1,
         "fc": 0,
         "four_g": 1,
         "int_memory": 53,
         "m_dep": 0.7,
         "mobile_wt": 136,
         "n_cores": 3,
         "pc": 6,
         "px_height": 905,
         "px_width": 1988,
         "ram": 2631,
         "sc_h": 17,
         "sc_w": 3,
         "talk_time": 7,
         "three_g": 1,
         "touch_screen": 1,
         "wifi": 0,
         "price_range": 2,
         "_deepnote_index_column": 1
        },
        {
         "battery_power": 563,
         "blue": 1,
         "clock_speed": 0.5,
         "dual_sim": 1,
         "fc": 2,
         "four_g": 1,
         "int_memory": 41,
         "m_dep": 0.9,
         "mobile_wt": 145,
         "n_cores": 5,
         "pc": 6,
         "px_height": 1263,
         "px_width": 1716,
         "ram": 2603,
         "sc_h": 11,
         "sc_w": 2,
         "talk_time": 9,
         "three_g": 1,
         "touch_screen": 1,
         "wifi": 0,
         "price_range": 2,
         "_deepnote_index_column": 2
        },
        {
         "battery_power": 615,
         "blue": 1,
         "clock_speed": 2.5,
         "dual_sim": 0,
         "fc": 0,
         "four_g": 0,
         "int_memory": 10,
         "m_dep": 0.8,
         "mobile_wt": 131,
         "n_cores": 6,
         "pc": 9,
         "px_height": 1216,
         "px_width": 1786,
         "ram": 2769,
         "sc_h": 16,
         "sc_w": 8,
         "talk_time": 11,
         "three_g": 1,
         "touch_screen": 0,
         "wifi": 0,
         "price_range": 2,
         "_deepnote_index_column": 3
        },
        {
         "battery_power": 1821,
         "blue": 1,
         "clock_speed": 1.2,
         "dual_sim": 0,
         "fc": 13,
         "four_g": 1,
         "int_memory": 44,
         "m_dep": 0.6,
         "mobile_wt": 141,
         "n_cores": 2,
         "pc": 14,
         "px_height": 1208,
         "px_width": 1212,
         "ram": 1411,
         "sc_h": 8,
         "sc_w": 2,
         "talk_time": 15,
         "three_g": 1,
         "touch_screen": 1,
         "wifi": 0,
         "price_range": 1,
         "_deepnote_index_column": 4
        }
       ]
      },
      "text/plain": "   battery_power  blue  clock_speed  dual_sim  fc  four_g  int_memory  m_dep  \\\n0            842     0          2.2         0   1       0           7    0.6   \n1           1021     1          0.5         1   0       1          53    0.7   \n2            563     1          0.5         1   2       1          41    0.9   \n3            615     1          2.5         0   0       0          10    0.8   \n4           1821     1          1.2         0  13       1          44    0.6   \n\n   mobile_wt  n_cores  ...  px_height  px_width   ram  sc_h  sc_w  talk_time  \\\n0        188        2  ...         20       756  2549     9     7         19   \n1        136        3  ...        905      1988  2631    17     3          7   \n2        145        5  ...       1263      1716  2603    11     2          9   \n3        131        6  ...       1216      1786  2769    16     8         11   \n4        141        2  ...       1208      1212  1411     8     2         15   \n\n   three_g  touch_screen  wifi  price_range  \n0        0             0     1            1  \n1        1             1     0            2  \n2        1             1     0            2  \n3        1             0     0            2  \n4        1             1     0            1  \n\n[5 rows x 21 columns]",
      "text/html": "<div>\n<style scoped>\n    .dataframe tbody tr th:only-of-type {\n        vertical-align: middle;\n    }\n\n    .dataframe tbody tr th {\n        vertical-align: top;\n    }\n\n    .dataframe thead th {\n        text-align: right;\n    }\n</style>\n<table border=\"1\" class=\"dataframe\">\n  <thead>\n    <tr style=\"text-align: right;\">\n      <th></th>\n      <th>battery_power</th>\n      <th>blue</th>\n      <th>clock_speed</th>\n      <th>dual_sim</th>\n      <th>fc</th>\n      <th>four_g</th>\n      <th>int_memory</th>\n      <th>m_dep</th>\n      <th>mobile_wt</th>\n      <th>n_cores</th>\n      <th>...</th>\n      <th>px_height</th>\n      <th>px_width</th>\n      <th>ram</th>\n      <th>sc_h</th>\n      <th>sc_w</th>\n      <th>talk_time</th>\n      <th>three_g</th>\n      <th>touch_screen</th>\n      <th>wifi</th>\n      <th>price_range</th>\n    </tr>\n  </thead>\n  <tbody>\n    <tr>\n      <th>0</th>\n      <td>842</td>\n      <td>0</td>\n      <td>2.2</td>\n      <td>0</td>\n      <td>1</td>\n      <td>0</td>\n      <td>7</td>\n      <td>0.6</td>\n      <td>188</td>\n      <td>2</td>\n      <td>...</td>\n      <td>20</td>\n      <td>756</td>\n      <td>2549</td>\n      <td>9</td>\n      <td>7</td>\n      <td>19</td>\n      <td>0</td>\n      <td>0</td>\n      <td>1</td>\n      <td>1</td>\n    </tr>\n    <tr>\n      <th>1</th>\n      <td>1021</td>\n      <td>1</td>\n      <td>0.5</td>\n      <td>1</td>\n      <td>0</td>\n      <td>1</td>\n      <td>53</td>\n      <td>0.7</td>\n      <td>136</td>\n      <td>3</td>\n      <td>...</td>\n      <td>905</td>\n      <td>1988</td>\n      <td>2631</td>\n      <td>17</td>\n      <td>3</td>\n      <td>7</td>\n      <td>1</td>\n      <td>1</td>\n      <td>0</td>\n      <td>2</td>\n    </tr>\n    <tr>\n      <th>2</th>\n      <td>563</td>\n      <td>1</td>\n      <td>0.5</td>\n      <td>1</td>\n      <td>2</td>\n      <td>1</td>\n      <td>41</td>\n      <td>0.9</td>\n      <td>145</td>\n      <td>5</td>\n      <td>...</td>\n      <td>1263</td>\n      <td>1716</td>\n      <td>2603</td>\n      <td>11</td>\n      <td>2</td>\n      <td>9</td>\n      <td>1</td>\n      <td>1</td>\n      <td>0</td>\n      <td>2</td>\n    </tr>\n    <tr>\n      <th>3</th>\n      <td>615</td>\n      <td>1</td>\n      <td>2.5</td>\n      <td>0</td>\n      <td>0</td>\n      <td>0</td>\n      <td>10</td>\n      <td>0.8</td>\n      <td>131</td>\n      <td>6</td>\n      <td>...</td>\n      <td>1216</td>\n      <td>1786</td>\n      <td>2769</td>\n      <td>16</td>\n      <td>8</td>\n      <td>11</td>\n      <td>1</td>\n      <td>0</td>\n      <td>0</td>\n      <td>2</td>\n    </tr>\n    <tr>\n      <th>4</th>\n      <td>1821</td>\n      <td>1</td>\n      <td>1.2</td>\n      <td>0</td>\n      <td>13</td>\n      <td>1</td>\n      <td>44</td>\n      <td>0.6</td>\n      <td>141</td>\n      <td>2</td>\n      <td>...</td>\n      <td>1208</td>\n      <td>1212</td>\n      <td>1411</td>\n      <td>8</td>\n      <td>2</td>\n      <td>15</td>\n      <td>1</td>\n      <td>1</td>\n      <td>0</td>\n      <td>1</td>\n    </tr>\n  </tbody>\n</table>\n<p>5 rows × 21 columns</p>\n</div>"
     },
     "metadata": {}
    }
   ]
  },
  {
   "cell_type": "code",
   "metadata": {
    "cell_id": "0ca1071b51f343aeabdf9ed759e9b839",
    "tags": [],
    "deepnote_to_be_reexecuted": false,
    "source_hash": "9a10eb86",
    "execution_start": 1652546606598,
    "execution_millis": 137,
    "deepnote_cell_type": "code",
    "deepnote_cell_height": 411.796875
   },
   "source": "data.tail()",
   "execution_count": 5,
   "outputs": [
    {
     "output_type": "execute_result",
     "execution_count": 5,
     "data": {
      "application/vnd.deepnote.dataframe.v3+json": {
       "column_count": 21,
       "row_count": 5,
       "columns": [
        {
         "name": "battery_power",
         "dtype": "int64",
         "stats": {
          "unique_count": 5,
          "nan_count": 0,
          "min": "510",
          "max": "1965",
          "histogram": [
           {
            "bin_start": 510,
            "bin_end": 655.5,
            "count": 1
           },
           {
            "bin_start": 655.5,
            "bin_end": 801,
            "count": 1
           },
           {
            "bin_start": 801,
            "bin_end": 946.5,
            "count": 0
           },
           {
            "bin_start": 946.5,
            "bin_end": 1092,
            "count": 0
           },
           {
            "bin_start": 1092,
            "bin_end": 1237.5,
            "count": 0
           },
           {
            "bin_start": 1237.5,
            "bin_end": 1383,
            "count": 0
           },
           {
            "bin_start": 1383,
            "bin_end": 1528.5,
            "count": 1
           },
           {
            "bin_start": 1528.5,
            "bin_end": 1674,
            "count": 0
           },
           {
            "bin_start": 1674,
            "bin_end": 1819.5,
            "count": 0
           },
           {
            "bin_start": 1819.5,
            "bin_end": 1965,
            "count": 2
           }
          ]
         }
        },
        {
         "name": "blue",
         "dtype": "int64",
         "stats": {
          "unique_count": 2,
          "nan_count": 0,
          "min": "0",
          "max": "1",
          "histogram": [
           {
            "bin_start": 0,
            "bin_end": 0.1,
            "count": 2
           },
           {
            "bin_start": 0.1,
            "bin_end": 0.2,
            "count": 0
           },
           {
            "bin_start": 0.2,
            "bin_end": 0.30000000000000004,
            "count": 0
           },
           {
            "bin_start": 0.30000000000000004,
            "bin_end": 0.4,
            "count": 0
           },
           {
            "bin_start": 0.4,
            "bin_end": 0.5,
            "count": 0
           },
           {
            "bin_start": 0.5,
            "bin_end": 0.6000000000000001,
            "count": 0
           },
           {
            "bin_start": 0.6000000000000001,
            "bin_end": 0.7000000000000001,
            "count": 0
           },
           {
            "bin_start": 0.7000000000000001,
            "bin_end": 0.8,
            "count": 0
           },
           {
            "bin_start": 0.8,
            "bin_end": 0.9,
            "count": 0
           },
           {
            "bin_start": 0.9,
            "bin_end": 1,
            "count": 3
           }
          ]
         }
        },
        {
         "name": "clock_speed",
         "dtype": "float64",
         "stats": {
          "unique_count": 4,
          "nan_count": 0,
          "min": "0.5",
          "max": "2.6",
          "histogram": [
           {
            "bin_start": 0.5,
            "bin_end": 0.71,
            "count": 1
           },
           {
            "bin_start": 0.71,
            "bin_end": 0.92,
            "count": 2
           },
           {
            "bin_start": 0.92,
            "bin_end": 1.1300000000000001,
            "count": 0
           },
           {
            "bin_start": 1.1300000000000001,
            "bin_end": 1.34,
            "count": 0
           },
           {
            "bin_start": 1.34,
            "bin_end": 1.55,
            "count": 0
           },
           {
            "bin_start": 1.55,
            "bin_end": 1.7600000000000002,
            "count": 0
           },
           {
            "bin_start": 1.7600000000000002,
            "bin_end": 1.9700000000000002,
            "count": 0
           },
           {
            "bin_start": 1.9700000000000002,
            "bin_end": 2.18,
            "count": 1
           },
           {
            "bin_start": 2.18,
            "bin_end": 2.39,
            "count": 0
           },
           {
            "bin_start": 2.39,
            "bin_end": 2.6,
            "count": 1
           }
          ]
         }
        },
        {
         "name": "dual_sim",
         "dtype": "int64",
         "stats": {
          "unique_count": 2,
          "nan_count": 0,
          "min": "0",
          "max": "1",
          "histogram": [
           {
            "bin_start": 0,
            "bin_end": 0.1,
            "count": 1
           },
           {
            "bin_start": 0.1,
            "bin_end": 0.2,
            "count": 0
           },
           {
            "bin_start": 0.2,
            "bin_end": 0.30000000000000004,
            "count": 0
           },
           {
            "bin_start": 0.30000000000000004,
            "bin_end": 0.4,
            "count": 0
           },
           {
            "bin_start": 0.4,
            "bin_end": 0.5,
            "count": 0
           },
           {
            "bin_start": 0.5,
            "bin_end": 0.6000000000000001,
            "count": 0
           },
           {
            "bin_start": 0.6000000000000001,
            "bin_end": 0.7000000000000001,
            "count": 0
           },
           {
            "bin_start": 0.7000000000000001,
            "bin_end": 0.8,
            "count": 0
           },
           {
            "bin_start": 0.8,
            "bin_end": 0.9,
            "count": 0
           },
           {
            "bin_start": 0.9,
            "bin_end": 1,
            "count": 4
           }
          ]
         }
        },
        {
         "name": "fc",
         "dtype": "int64",
         "stats": {
          "unique_count": 4,
          "nan_count": 0,
          "min": "0",
          "max": "5",
          "histogram": [
           {
            "bin_start": 0,
            "bin_end": 0.5,
            "count": 2
           },
           {
            "bin_start": 0.5,
            "bin_end": 1,
            "count": 0
           },
           {
            "bin_start": 1,
            "bin_end": 1.5,
            "count": 1
           },
           {
            "bin_start": 1.5,
            "bin_end": 2,
            "count": 0
           },
           {
            "bin_start": 2,
            "bin_end": 2.5,
            "count": 0
           },
           {
            "bin_start": 2.5,
            "bin_end": 3,
            "count": 0
           },
           {
            "bin_start": 3,
            "bin_end": 3.5,
            "count": 0
           },
           {
            "bin_start": 3.5,
            "bin_end": 4,
            "count": 0
           },
           {
            "bin_start": 4,
            "bin_end": 4.5,
            "count": 1
           },
           {
            "bin_start": 4.5,
            "bin_end": 5,
            "count": 1
           }
          ]
         }
        },
        {
         "name": "four_g",
         "dtype": "int64",
         "stats": {
          "unique_count": 2,
          "nan_count": 0,
          "min": "0",
          "max": "1",
          "histogram": [
           {
            "bin_start": 0,
            "bin_end": 0.1,
            "count": 1
           },
           {
            "bin_start": 0.1,
            "bin_end": 0.2,
            "count": 0
           },
           {
            "bin_start": 0.2,
            "bin_end": 0.30000000000000004,
            "count": 0
           },
           {
            "bin_start": 0.30000000000000004,
            "bin_end": 0.4,
            "count": 0
           },
           {
            "bin_start": 0.4,
            "bin_end": 0.5,
            "count": 0
           },
           {
            "bin_start": 0.5,
            "bin_end": 0.6000000000000001,
            "count": 0
           },
           {
            "bin_start": 0.6000000000000001,
            "bin_end": 0.7000000000000001,
            "count": 0
           },
           {
            "bin_start": 0.7000000000000001,
            "bin_end": 0.8,
            "count": 0
           },
           {
            "bin_start": 0.8,
            "bin_end": 0.9,
            "count": 0
           },
           {
            "bin_start": 0.9,
            "bin_end": 1,
            "count": 4
           }
          ]
         }
        },
        {
         "name": "int_memory",
         "dtype": "int64",
         "stats": {
          "unique_count": 5,
          "nan_count": 0,
          "min": "2",
          "max": "46",
          "histogram": [
           {
            "bin_start": 2,
            "bin_end": 6.4,
            "count": 1
           },
           {
            "bin_start": 6.4,
            "bin_end": 10.8,
            "count": 0
           },
           {
            "bin_start": 10.8,
            "bin_end": 15.200000000000001,
            "count": 0
           },
           {
            "bin_start": 15.200000000000001,
            "bin_end": 19.6,
            "count": 0
           },
           {
            "bin_start": 19.6,
            "bin_end": 24,
            "count": 0
           },
           {
            "bin_start": 24,
            "bin_end": 28.400000000000002,
            "count": 0
           },
           {
            "bin_start": 28.400000000000002,
            "bin_end": 32.800000000000004,
            "count": 0
           },
           {
            "bin_start": 32.800000000000004,
            "bin_end": 37.2,
            "count": 1
           },
           {
            "bin_start": 37.2,
            "bin_end": 41.6,
            "count": 1
           },
           {
            "bin_start": 41.6,
            "bin_end": 46,
            "count": 2
           }
          ]
         }
        },
        {
         "name": "m_dep",
         "dtype": "float64",
         "stats": {
          "unique_count": 5,
          "nan_count": 0,
          "min": "0.1",
          "max": "0.9",
          "histogram": [
           {
            "bin_start": 0.1,
            "bin_end": 0.18,
            "count": 1
           },
           {
            "bin_start": 0.18,
            "bin_end": 0.26,
            "count": 1
           },
           {
            "bin_start": 0.26,
            "bin_end": 0.33999999999999997,
            "count": 0
           },
           {
            "bin_start": 0.33999999999999997,
            "bin_end": 0.42000000000000004,
            "count": 0
           },
           {
            "bin_start": 0.42000000000000004,
            "bin_end": 0.5,
            "count": 0
           },
           {
            "bin_start": 0.5,
            "bin_end": 0.58,
            "count": 0
           },
           {
            "bin_start": 0.58,
            "bin_end": 0.66,
            "count": 0
           },
           {
            "bin_start": 0.66,
            "bin_end": 0.74,
            "count": 1
           },
           {
            "bin_start": 0.74,
            "bin_end": 0.82,
            "count": 1
           },
           {
            "bin_start": 0.82,
            "bin_end": 0.9,
            "count": 1
           }
          ]
         }
        },
        {
         "name": "mobile_wt",
         "dtype": "int64",
         "stats": {
          "unique_count": 5,
          "nan_count": 0,
          "min": "106",
          "max": "187",
          "histogram": [
           {
            "bin_start": 106,
            "bin_end": 114.1,
            "count": 2
           },
           {
            "bin_start": 114.1,
            "bin_end": 122.2,
            "count": 0
           },
           {
            "bin_start": 122.2,
            "bin_end": 130.3,
            "count": 0
           },
           {
            "bin_start": 130.3,
            "bin_end": 138.4,
            "count": 0
           },
           {
            "bin_start": 138.4,
            "bin_end": 146.5,
            "count": 1
           },
           {
            "bin_start": 146.5,
            "bin_end": 154.6,
            "count": 0
           },
           {
            "bin_start": 154.6,
            "bin_end": 162.7,
            "count": 0
           },
           {
            "bin_start": 162.7,
            "bin_end": 170.8,
            "count": 1
           },
           {
            "bin_start": 170.8,
            "bin_end": 178.89999999999998,
            "count": 0
           },
           {
            "bin_start": 178.89999999999998,
            "bin_end": 187,
            "count": 1
           }
          ]
         }
        },
        {
         "name": "n_cores",
         "dtype": "int64",
         "stats": {
          "unique_count": 4,
          "nan_count": 0,
          "min": "4",
          "max": "8",
          "histogram": [
           {
            "bin_start": 4,
            "bin_end": 4.4,
            "count": 1
           },
           {
            "bin_start": 4.4,
            "bin_end": 4.8,
            "count": 0
           },
           {
            "bin_start": 4.8,
            "bin_end": 5.2,
            "count": 1
           },
           {
            "bin_start": 5.2,
            "bin_end": 5.6,
            "count": 0
           },
           {
            "bin_start": 5.6,
            "bin_end": 6,
            "count": 0
           },
           {
            "bin_start": 6,
            "bin_end": 6.4,
            "count": 2
           },
           {
            "bin_start": 6.4,
            "bin_end": 6.800000000000001,
            "count": 0
           },
           {
            "bin_start": 6.800000000000001,
            "bin_end": 7.2,
            "count": 0
           },
           {
            "bin_start": 7.2,
            "bin_end": 7.6,
            "count": 0
           },
           {
            "bin_start": 7.6,
            "bin_end": 8,
            "count": 1
           }
          ]
         }
        },
        {
         "name": "pc",
         "dtype": "int64",
         "stats": {
          "unique_count": 4,
          "nan_count": 0,
          "min": "3",
          "max": "16",
          "histogram": [
           {
            "bin_start": 3,
            "bin_end": 4.3,
            "count": 2
           },
           {
            "bin_start": 4.3,
            "bin_end": 5.6,
            "count": 1
           },
           {
            "bin_start": 5.6,
            "bin_end": 6.9,
            "count": 0
           },
           {
            "bin_start": 6.9,
            "bin_end": 8.2,
            "count": 0
           },
           {
            "bin_start": 8.2,
            "bin_end": 9.5,
            "count": 0
           },
           {
            "bin_start": 9.5,
            "bin_end": 10.8,
            "count": 0
           },
           {
            "bin_start": 10.8,
            "bin_end": 12.1,
            "count": 0
           },
           {
            "bin_start": 12.1,
            "bin_end": 13.4,
            "count": 0
           },
           {
            "bin_start": 13.4,
            "bin_end": 14.700000000000001,
            "count": 1
           },
           {
            "bin_start": 14.700000000000001,
            "bin_end": 16,
            "count": 1
           }
          ]
         }
        },
        {
         "name": "px_height",
         "dtype": "int64",
         "stats": {
          "unique_count": 5,
          "nan_count": 0,
          "min": "336",
          "max": "1222",
          "histogram": [
           {
            "bin_start": 336,
            "bin_end": 424.6,
            "count": 1
           },
           {
            "bin_start": 424.6,
            "bin_end": 513.2,
            "count": 1
           },
           {
            "bin_start": 513.2,
            "bin_end": 601.8,
            "count": 0
           },
           {
            "bin_start": 601.8,
            "bin_end": 690.4,
            "count": 0
           },
           {
            "bin_start": 690.4,
            "bin_end": 779,
            "count": 0
           },
           {
            "bin_start": 779,
            "bin_end": 867.5999999999999,
            "count": 0
           },
           {
            "bin_start": 867.5999999999999,
            "bin_end": 956.1999999999999,
            "count": 2
           },
           {
            "bin_start": 956.1999999999999,
            "bin_end": 1044.8,
            "count": 0
           },
           {
            "bin_start": 1044.8,
            "bin_end": 1133.4,
            "count": 0
           },
           {
            "bin_start": 1133.4,
            "bin_end": 1222,
            "count": 1
           }
          ]
         }
        },
        {
         "name": "px_width",
         "dtype": "int64",
         "stats": {
          "unique_count": 5,
          "nan_count": 0,
          "min": "670",
          "max": "1965",
          "histogram": [
           {
            "bin_start": 670,
            "bin_end": 799.5,
            "count": 2
           },
           {
            "bin_start": 799.5,
            "bin_end": 929,
            "count": 0
           },
           {
            "bin_start": 929,
            "bin_end": 1058.5,
            "count": 0
           },
           {
            "bin_start": 1058.5,
            "bin_end": 1188,
            "count": 0
           },
           {
            "bin_start": 1188,
            "bin_end": 1317.5,
            "count": 0
           },
           {
            "bin_start": 1317.5,
            "bin_end": 1447,
            "count": 0
           },
           {
            "bin_start": 1447,
            "bin_end": 1576.5,
            "count": 0
           },
           {
            "bin_start": 1576.5,
            "bin_end": 1706,
            "count": 1
           },
           {
            "bin_start": 1706,
            "bin_end": 1835.5,
            "count": 0
           },
           {
            "bin_start": 1835.5,
            "bin_end": 1965,
            "count": 2
           }
          ]
         }
        },
        {
         "name": "ram",
         "dtype": "int64",
         "stats": {
          "unique_count": 5,
          "nan_count": 0,
          "min": "668",
          "max": "3919",
          "histogram": [
           {
            "bin_start": 668,
            "bin_end": 993.1,
            "count": 2
           },
           {
            "bin_start": 993.1,
            "bin_end": 1318.2,
            "count": 0
           },
           {
            "bin_start": 1318.2,
            "bin_end": 1643.3000000000002,
            "count": 0
           },
           {
            "bin_start": 1643.3000000000002,
            "bin_end": 1968.4,
            "count": 0
           },
           {
            "bin_start": 1968.4,
            "bin_end": 2293.5,
            "count": 1
           },
           {
            "bin_start": 2293.5,
            "bin_end": 2618.6000000000004,
            "count": 0
           },
           {
            "bin_start": 2618.6000000000004,
            "bin_end": 2943.7000000000003,
            "count": 0
           },
           {
            "bin_start": 2943.7000000000003,
            "bin_end": 3268.8,
            "count": 1
           },
           {
            "bin_start": 3268.8,
            "bin_end": 3593.9,
            "count": 0
           },
           {
            "bin_start": 3593.9,
            "bin_end": 3919,
            "count": 1
           }
          ]
         }
        },
        {
         "name": "sc_h",
         "dtype": "int64",
         "stats": {
          "unique_count": 5,
          "nan_count": 0,
          "min": "9",
          "max": "19",
          "histogram": [
           {
            "bin_start": 9,
            "bin_end": 10,
            "count": 1
           },
           {
            "bin_start": 10,
            "bin_end": 11,
            "count": 0
           },
           {
            "bin_start": 11,
            "bin_end": 12,
            "count": 1
           },
           {
            "bin_start": 12,
            "bin_end": 13,
            "count": 0
           },
           {
            "bin_start": 13,
            "bin_end": 14,
            "count": 1
           },
           {
            "bin_start": 14,
            "bin_end": 15,
            "count": 0
           },
           {
            "bin_start": 15,
            "bin_end": 16,
            "count": 0
           },
           {
            "bin_start": 16,
            "bin_end": 17,
            "count": 0
           },
           {
            "bin_start": 17,
            "bin_end": 18,
            "count": 0
           },
           {
            "bin_start": 18,
            "bin_end": 19,
            "count": 2
           }
          ]
         }
        },
        {
         "name": "sc_w",
         "dtype": "int64",
         "stats": {
          "unique_count": 3,
          "nan_count": 0,
          "min": "1",
          "max": "10",
          "histogram": [
           {
            "bin_start": 1,
            "bin_end": 1.9,
            "count": 1
           },
           {
            "bin_start": 1.9,
            "bin_end": 2.8,
            "count": 0
           },
           {
            "bin_start": 2.8,
            "bin_end": 3.7,
            "count": 0
           },
           {
            "bin_start": 3.7,
            "bin_end": 4.6,
            "count": 2
           },
           {
            "bin_start": 4.6,
            "bin_end": 5.5,
            "count": 0
           },
           {
            "bin_start": 5.5,
            "bin_end": 6.4,
            "count": 0
           },
           {
            "bin_start": 6.4,
            "bin_end": 7.3,
            "count": 0
           },
           {
            "bin_start": 7.3,
            "bin_end": 8.2,
            "count": 0
           },
           {
            "bin_start": 8.2,
            "bin_end": 9.1,
            "count": 0
           },
           {
            "bin_start": 9.1,
            "bin_end": 10,
            "count": 2
           }
          ]
         }
        },
        {
         "name": "talk_time",
         "dtype": "int64",
         "stats": {
          "unique_count": 4,
          "nan_count": 0,
          "min": "2",
          "max": "19",
          "histogram": [
           {
            "bin_start": 2,
            "bin_end": 3.7,
            "count": 1
           },
           {
            "bin_start": 3.7,
            "bin_end": 5.4,
            "count": 1
           },
           {
            "bin_start": 5.4,
            "bin_end": 7.1,
            "count": 0
           },
           {
            "bin_start": 7.1,
            "bin_end": 8.8,
            "count": 0
           },
           {
            "bin_start": 8.8,
            "bin_end": 10.5,
            "count": 0
           },
           {
            "bin_start": 10.5,
            "bin_end": 12.2,
            "count": 0
           },
           {
            "bin_start": 12.2,
            "bin_end": 13.9,
            "count": 0
           },
           {
            "bin_start": 13.9,
            "bin_end": 15.6,
            "count": 0
           },
           {
            "bin_start": 15.6,
            "bin_end": 17.299999999999997,
            "count": 1
           },
           {
            "bin_start": 17.299999999999997,
            "bin_end": 19,
            "count": 2
           }
          ]
         }
        },
        {
         "name": "three_g",
         "dtype": "int64",
         "stats": {
          "unique_count": 1,
          "nan_count": 0,
          "min": "1",
          "max": "1",
          "histogram": [
           {
            "bin_start": 0.5,
            "bin_end": 0.6,
            "count": 0
           },
           {
            "bin_start": 0.6,
            "bin_end": 0.7,
            "count": 0
           },
           {
            "bin_start": 0.7,
            "bin_end": 0.8,
            "count": 0
           },
           {
            "bin_start": 0.8,
            "bin_end": 0.9,
            "count": 0
           },
           {
            "bin_start": 0.9,
            "bin_end": 1,
            "count": 0
           },
           {
            "bin_start": 1,
            "bin_end": 1.1,
            "count": 5
           },
           {
            "bin_start": 1.1,
            "bin_end": 1.2000000000000002,
            "count": 0
           },
           {
            "bin_start": 1.2000000000000002,
            "bin_end": 1.3,
            "count": 0
           },
           {
            "bin_start": 1.3,
            "bin_end": 1.4,
            "count": 0
           },
           {
            "bin_start": 1.4,
            "bin_end": 1.5,
            "count": 0
           }
          ]
         }
        },
        {
         "name": "touch_screen",
         "dtype": "int64",
         "stats": {
          "unique_count": 1,
          "nan_count": 0,
          "min": "1",
          "max": "1",
          "histogram": [
           {
            "bin_start": 0.5,
            "bin_end": 0.6,
            "count": 0
           },
           {
            "bin_start": 0.6,
            "bin_end": 0.7,
            "count": 0
           },
           {
            "bin_start": 0.7,
            "bin_end": 0.8,
            "count": 0
           },
           {
            "bin_start": 0.8,
            "bin_end": 0.9,
            "count": 0
           },
           {
            "bin_start": 0.9,
            "bin_end": 1,
            "count": 0
           },
           {
            "bin_start": 1,
            "bin_end": 1.1,
            "count": 5
           },
           {
            "bin_start": 1.1,
            "bin_end": 1.2000000000000002,
            "count": 0
           },
           {
            "bin_start": 1.2000000000000002,
            "bin_end": 1.3,
            "count": 0
           },
           {
            "bin_start": 1.3,
            "bin_end": 1.4,
            "count": 0
           },
           {
            "bin_start": 1.4,
            "bin_end": 1.5,
            "count": 0
           }
          ]
         }
        },
        {
         "name": "wifi",
         "dtype": "int64",
         "stats": {
          "unique_count": 2,
          "nan_count": 0,
          "min": "0",
          "max": "1",
          "histogram": [
           {
            "bin_start": 0,
            "bin_end": 0.1,
            "count": 2
           },
           {
            "bin_start": 0.1,
            "bin_end": 0.2,
            "count": 0
           },
           {
            "bin_start": 0.2,
            "bin_end": 0.30000000000000004,
            "count": 0
           },
           {
            "bin_start": 0.30000000000000004,
            "bin_end": 0.4,
            "count": 0
           },
           {
            "bin_start": 0.4,
            "bin_end": 0.5,
            "count": 0
           },
           {
            "bin_start": 0.5,
            "bin_end": 0.6000000000000001,
            "count": 0
           },
           {
            "bin_start": 0.6000000000000001,
            "bin_end": 0.7000000000000001,
            "count": 0
           },
           {
            "bin_start": 0.7000000000000001,
            "bin_end": 0.8,
            "count": 0
           },
           {
            "bin_start": 0.8,
            "bin_end": 0.9,
            "count": 0
           },
           {
            "bin_start": 0.9,
            "bin_end": 1,
            "count": 3
           }
          ]
         }
        },
        {
         "name": "price_range",
         "dtype": "int64",
         "stats": {
          "unique_count": 3,
          "nan_count": 0,
          "min": "0",
          "max": "3",
          "histogram": [
           {
            "bin_start": 0,
            "bin_end": 0.3,
            "count": 2
           },
           {
            "bin_start": 0.3,
            "bin_end": 0.6,
            "count": 0
           },
           {
            "bin_start": 0.6,
            "bin_end": 0.8999999999999999,
            "count": 0
           },
           {
            "bin_start": 0.8999999999999999,
            "bin_end": 1.2,
            "count": 0
           },
           {
            "bin_start": 1.2,
            "bin_end": 1.5,
            "count": 0
           },
           {
            "bin_start": 1.5,
            "bin_end": 1.7999999999999998,
            "count": 0
           },
           {
            "bin_start": 1.7999999999999998,
            "bin_end": 2.1,
            "count": 1
           },
           {
            "bin_start": 2.1,
            "bin_end": 2.4,
            "count": 0
           },
           {
            "bin_start": 2.4,
            "bin_end": 2.6999999999999997,
            "count": 0
           },
           {
            "bin_start": 2.6999999999999997,
            "bin_end": 3,
            "count": 2
           }
          ]
         }
        },
        {
         "name": "_deepnote_index_column",
         "dtype": "int64"
        }
       ],
       "rows": [
        {
         "battery_power": 794,
         "blue": 1,
         "clock_speed": 0.5,
         "dual_sim": 1,
         "fc": 0,
         "four_g": 1,
         "int_memory": 2,
         "m_dep": 0.8,
         "mobile_wt": 106,
         "n_cores": 6,
         "pc": 14,
         "px_height": 1222,
         "px_width": 1890,
         "ram": 668,
         "sc_h": 13,
         "sc_w": 4,
         "talk_time": 19,
         "three_g": 1,
         "touch_screen": 1,
         "wifi": 0,
         "price_range": 0,
         "_deepnote_index_column": 1995
        },
        {
         "battery_power": 1965,
         "blue": 1,
         "clock_speed": 2.6,
         "dual_sim": 1,
         "fc": 0,
         "four_g": 0,
         "int_memory": 39,
         "m_dep": 0.2,
         "mobile_wt": 187,
         "n_cores": 4,
         "pc": 3,
         "px_height": 915,
         "px_width": 1965,
         "ram": 2032,
         "sc_h": 11,
         "sc_w": 10,
         "talk_time": 16,
         "three_g": 1,
         "touch_screen": 1,
         "wifi": 1,
         "price_range": 2,
         "_deepnote_index_column": 1996
        },
        {
         "battery_power": 1911,
         "blue": 0,
         "clock_speed": 0.9,
         "dual_sim": 1,
         "fc": 1,
         "four_g": 1,
         "int_memory": 36,
         "m_dep": 0.7,
         "mobile_wt": 108,
         "n_cores": 8,
         "pc": 3,
         "px_height": 868,
         "px_width": 1632,
         "ram": 3057,
         "sc_h": 9,
         "sc_w": 1,
         "talk_time": 5,
         "three_g": 1,
         "touch_screen": 1,
         "wifi": 0,
         "price_range": 3,
         "_deepnote_index_column": 1997
        },
        {
         "battery_power": 1512,
         "blue": 0,
         "clock_speed": 0.9,
         "dual_sim": 0,
         "fc": 4,
         "four_g": 1,
         "int_memory": 46,
         "m_dep": 0.1,
         "mobile_wt": 145,
         "n_cores": 5,
         "pc": 5,
         "px_height": 336,
         "px_width": 670,
         "ram": 869,
         "sc_h": 18,
         "sc_w": 10,
         "talk_time": 19,
         "three_g": 1,
         "touch_screen": 1,
         "wifi": 1,
         "price_range": 0,
         "_deepnote_index_column": 1998
        },
        {
         "battery_power": 510,
         "blue": 1,
         "clock_speed": 2,
         "dual_sim": 1,
         "fc": 5,
         "four_g": 1,
         "int_memory": 45,
         "m_dep": 0.9,
         "mobile_wt": 168,
         "n_cores": 6,
         "pc": 16,
         "px_height": 483,
         "px_width": 754,
         "ram": 3919,
         "sc_h": 19,
         "sc_w": 4,
         "talk_time": 2,
         "three_g": 1,
         "touch_screen": 1,
         "wifi": 1,
         "price_range": 3,
         "_deepnote_index_column": 1999
        }
       ]
      },
      "text/plain": "      battery_power  blue  clock_speed  dual_sim  fc  four_g  int_memory  \\\n1995            794     1          0.5         1   0       1           2   \n1996           1965     1          2.6         1   0       0          39   \n1997           1911     0          0.9         1   1       1          36   \n1998           1512     0          0.9         0   4       1          46   \n1999            510     1          2.0         1   5       1          45   \n\n      m_dep  mobile_wt  n_cores  ...  px_height  px_width   ram  sc_h  sc_w  \\\n1995    0.8        106        6  ...       1222      1890   668    13     4   \n1996    0.2        187        4  ...        915      1965  2032    11    10   \n1997    0.7        108        8  ...        868      1632  3057     9     1   \n1998    0.1        145        5  ...        336       670   869    18    10   \n1999    0.9        168        6  ...        483       754  3919    19     4   \n\n      talk_time  three_g  touch_screen  wifi  price_range  \n1995         19        1             1     0            0  \n1996         16        1             1     1            2  \n1997          5        1             1     0            3  \n1998         19        1             1     1            0  \n1999          2        1             1     1            3  \n\n[5 rows x 21 columns]",
      "text/html": "<div>\n<style scoped>\n    .dataframe tbody tr th:only-of-type {\n        vertical-align: middle;\n    }\n\n    .dataframe tbody tr th {\n        vertical-align: top;\n    }\n\n    .dataframe thead th {\n        text-align: right;\n    }\n</style>\n<table border=\"1\" class=\"dataframe\">\n  <thead>\n    <tr style=\"text-align: right;\">\n      <th></th>\n      <th>battery_power</th>\n      <th>blue</th>\n      <th>clock_speed</th>\n      <th>dual_sim</th>\n      <th>fc</th>\n      <th>four_g</th>\n      <th>int_memory</th>\n      <th>m_dep</th>\n      <th>mobile_wt</th>\n      <th>n_cores</th>\n      <th>...</th>\n      <th>px_height</th>\n      <th>px_width</th>\n      <th>ram</th>\n      <th>sc_h</th>\n      <th>sc_w</th>\n      <th>talk_time</th>\n      <th>three_g</th>\n      <th>touch_screen</th>\n      <th>wifi</th>\n      <th>price_range</th>\n    </tr>\n  </thead>\n  <tbody>\n    <tr>\n      <th>1995</th>\n      <td>794</td>\n      <td>1</td>\n      <td>0.5</td>\n      <td>1</td>\n      <td>0</td>\n      <td>1</td>\n      <td>2</td>\n      <td>0.8</td>\n      <td>106</td>\n      <td>6</td>\n      <td>...</td>\n      <td>1222</td>\n      <td>1890</td>\n      <td>668</td>\n      <td>13</td>\n      <td>4</td>\n      <td>19</td>\n      <td>1</td>\n      <td>1</td>\n      <td>0</td>\n      <td>0</td>\n    </tr>\n    <tr>\n      <th>1996</th>\n      <td>1965</td>\n      <td>1</td>\n      <td>2.6</td>\n      <td>1</td>\n      <td>0</td>\n      <td>0</td>\n      <td>39</td>\n      <td>0.2</td>\n      <td>187</td>\n      <td>4</td>\n      <td>...</td>\n      <td>915</td>\n      <td>1965</td>\n      <td>2032</td>\n      <td>11</td>\n      <td>10</td>\n      <td>16</td>\n      <td>1</td>\n      <td>1</td>\n      <td>1</td>\n      <td>2</td>\n    </tr>\n    <tr>\n      <th>1997</th>\n      <td>1911</td>\n      <td>0</td>\n      <td>0.9</td>\n      <td>1</td>\n      <td>1</td>\n      <td>1</td>\n      <td>36</td>\n      <td>0.7</td>\n      <td>108</td>\n      <td>8</td>\n      <td>...</td>\n      <td>868</td>\n      <td>1632</td>\n      <td>3057</td>\n      <td>9</td>\n      <td>1</td>\n      <td>5</td>\n      <td>1</td>\n      <td>1</td>\n      <td>0</td>\n      <td>3</td>\n    </tr>\n    <tr>\n      <th>1998</th>\n      <td>1512</td>\n      <td>0</td>\n      <td>0.9</td>\n      <td>0</td>\n      <td>4</td>\n      <td>1</td>\n      <td>46</td>\n      <td>0.1</td>\n      <td>145</td>\n      <td>5</td>\n      <td>...</td>\n      <td>336</td>\n      <td>670</td>\n      <td>869</td>\n      <td>18</td>\n      <td>10</td>\n      <td>19</td>\n      <td>1</td>\n      <td>1</td>\n      <td>1</td>\n      <td>0</td>\n    </tr>\n    <tr>\n      <th>1999</th>\n      <td>510</td>\n      <td>1</td>\n      <td>2.0</td>\n      <td>1</td>\n      <td>5</td>\n      <td>1</td>\n      <td>45</td>\n      <td>0.9</td>\n      <td>168</td>\n      <td>6</td>\n      <td>...</td>\n      <td>483</td>\n      <td>754</td>\n      <td>3919</td>\n      <td>19</td>\n      <td>4</td>\n      <td>2</td>\n      <td>1</td>\n      <td>1</td>\n      <td>1</td>\n      <td>3</td>\n    </tr>\n  </tbody>\n</table>\n<p>5 rows × 21 columns</p>\n</div>"
     },
     "metadata": {}
    }
   ]
  },
  {
   "cell_type": "markdown",
   "source": "## 1.4 Display the column headings, statistical information, description and statistical summary of the data.",
   "metadata": {
    "cell_id": "00008-e71bcc44-08d3-4b75-9be7-9df965f5f39a",
    "deepnote_cell_type": "markdown",
    "deepnote_cell_height": 110
   }
  },
  {
   "cell_type": "code",
   "metadata": {
    "cell_id": "5cdfd9781e0340ada36c82fd1223f49d",
    "tags": [],
    "deepnote_to_be_reexecuted": false,
    "source_hash": "c8a8c27a",
    "execution_start": 1652546606742,
    "execution_millis": 21,
    "deepnote_cell_type": "code",
    "deepnote_cell_height": 195,
    "deepnote_output_heights": [
     98
    ]
   },
   "source": "data.columns",
   "execution_count": 6,
   "outputs": [
    {
     "output_type": "execute_result",
     "execution_count": 6,
     "data": {
      "text/plain": "Index(['battery_power', 'blue', 'clock_speed', 'dual_sim', 'fc', 'four_g',\n       'int_memory', 'm_dep', 'mobile_wt', 'n_cores', 'pc', 'px_height',\n       'px_width', 'ram', 'sc_h', 'sc_w', 'talk_time', 'three_g',\n       'touch_screen', 'wifi', 'price_range'],\n      dtype='object')"
     },
     "metadata": {}
    }
   ]
  },
  {
   "cell_type": "code",
   "metadata": {
    "cell_id": "00009-6b7abbe5-5b92-4286-93eb-99a0d9978674",
    "deepnote_to_be_reexecuted": false,
    "source_hash": "4766ca7",
    "execution_start": 1652546606772,
    "execution_millis": 33,
    "deepnote_cell_type": "code",
    "deepnote_cell_height": 670
   },
   "source": "##---------Type the code below this line------------------##\ndata.info()",
   "execution_count": 7,
   "outputs": [
    {
     "name": "stdout",
     "text": "<class 'pandas.core.frame.DataFrame'>\nRangeIndex: 2000 entries, 0 to 1999\nData columns (total 21 columns):\n #   Column         Non-Null Count  Dtype  \n---  ------         --------------  -----  \n 0   battery_power  2000 non-null   int64  \n 1   blue           2000 non-null   int64  \n 2   clock_speed    2000 non-null   float64\n 3   dual_sim       2000 non-null   int64  \n 4   fc             2000 non-null   int64  \n 5   four_g         2000 non-null   int64  \n 6   int_memory     2000 non-null   int64  \n 7   m_dep          2000 non-null   float64\n 8   mobile_wt      2000 non-null   int64  \n 9   n_cores        2000 non-null   int64  \n 10  pc             2000 non-null   int64  \n 11  px_height      2000 non-null   int64  \n 12  px_width       2000 non-null   int64  \n 13  ram            2000 non-null   int64  \n 14  sc_h           2000 non-null   int64  \n 15  sc_w           2000 non-null   int64  \n 16  talk_time      2000 non-null   int64  \n 17  three_g        2000 non-null   int64  \n 18  touch_screen   2000 non-null   int64  \n 19  wifi           2000 non-null   int64  \n 20  price_range    2000 non-null   int64  \ndtypes: float64(2), int64(19)\nmemory usage: 328.2 KB\n",
     "output_type": "stream"
    }
   ]
  },
  {
   "cell_type": "markdown",
   "source": "## 1.5 Write your observations from the above. \n1. Size of the dataset\n2. What type of data attributes are there?\n3. Is there any null data that has to be cleaned?\n",
   "metadata": {
    "cell_id": "00010-f62e66f3-723d-42c7-a34e-45c8836ac952",
    "deepnote_cell_type": "markdown",
    "deepnote_cell_height": 173.1875
   }
  },
  {
   "cell_type": "code",
   "metadata": {
    "cell_id": "00011-e7c243bc-081a-47e9-a1a4-67791c8618f1",
    "deepnote_to_be_reexecuted": false,
    "source_hash": "e1019c0c",
    "execution_start": 1652546606812,
    "execution_millis": 15,
    "deepnote_cell_type": "code",
    "deepnote_cell_height": 136.1875,
    "deepnote_output_heights": [
     21.1875
    ]
   },
   "source": "##--------------Type the answers below this line--------------\ndata.shape",
   "execution_count": 8,
   "outputs": [
    {
     "output_type": "execute_result",
     "execution_count": 8,
     "data": {
      "text/plain": "(2000, 21)"
     },
     "metadata": {}
    }
   ]
  },
  {
   "cell_type": "code",
   "metadata": {
    "cell_id": "0e742c302fdb481ca446d515b3147408",
    "tags": [],
    "deepnote_to_be_reexecuted": false,
    "source_hash": "878de0e4",
    "execution_start": 1652546606843,
    "execution_millis": 25,
    "deepnote_cell_type": "code",
    "deepnote_cell_height": 521.375,
    "deepnote_output_heights": [
     424.390625
    ]
   },
   "source": "data.isnull().sum()",
   "execution_count": 9,
   "outputs": [
    {
     "output_type": "execute_result",
     "execution_count": 9,
     "data": {
      "text/plain": "battery_power    0\nblue             0\nclock_speed      0\ndual_sim         0\nfc               0\nfour_g           0\nint_memory       0\nm_dep            0\nmobile_wt        0\nn_cores          0\npc               0\npx_height        0\npx_width         0\nram              0\nsc_h             0\nsc_w             0\ntalk_time        0\nthree_g          0\ntouch_screen     0\nwifi             0\nprice_range      0\ndtype: int64"
     },
     "metadata": {}
    }
   ]
  },
  {
   "cell_type": "markdown",
   "source": "# 2. Data Preparation",
   "metadata": {
    "cell_id": "00012-bc1dbc5e-ea90-4660-916f-34141403d7d7",
    "deepnote_cell_type": "markdown",
    "deepnote_cell_height": 82
   }
  },
  {
   "cell_type": "markdown",
   "source": "## 2.1 Display how many unique values are present in each attribute\n",
   "metadata": {
    "cell_id": "00013-b851d1ea-7aee-4541-9342-1e9e9a4f28f0",
    "deepnote_cell_type": "markdown",
    "deepnote_cell_height": 110
   }
  },
  {
   "cell_type": "code",
   "metadata": {
    "cell_id": "00014-8a63bfc0-5b13-4192-89e2-1d9186ad776f",
    "deepnote_to_be_reexecuted": false,
    "source_hash": "bc3aac22",
    "execution_start": 1652546606877,
    "execution_millis": 264,
    "deepnote_cell_type": "code",
    "deepnote_cell_height": 634.796875
   },
   "source": "##---------Type the code below this line------------------##\ndata.describe(include='all').T",
   "execution_count": 10,
   "outputs": [
    {
     "output_type": "execute_result",
     "execution_count": 10,
     "data": {
      "application/vnd.deepnote.dataframe.v3+json": {
       "column_count": 8,
       "row_count": 21,
       "columns": [
        {
         "name": "count",
         "dtype": "float64",
         "stats": {
          "unique_count": 1,
          "nan_count": 0,
          "min": "2000.0",
          "max": "2000.0",
          "histogram": [
           {
            "bin_start": 1999.5,
            "bin_end": 1999.6,
            "count": 0
           },
           {
            "bin_start": 1999.6,
            "bin_end": 1999.7,
            "count": 0
           },
           {
            "bin_start": 1999.7,
            "bin_end": 1999.8,
            "count": 0
           },
           {
            "bin_start": 1999.8,
            "bin_end": 1999.9,
            "count": 0
           },
           {
            "bin_start": 1999.9,
            "bin_end": 2000,
            "count": 0
           },
           {
            "bin_start": 2000,
            "bin_end": 2000.1,
            "count": 21
           },
           {
            "bin_start": 2000.1,
            "bin_end": 2000.2,
            "count": 0
           },
           {
            "bin_start": 2000.2,
            "bin_end": 2000.3,
            "count": 0
           },
           {
            "bin_start": 2000.3,
            "bin_end": 2000.4,
            "count": 0
           },
           {
            "bin_start": 2000.4,
            "bin_end": 2000.5,
            "count": 0
           }
          ]
         }
        },
        {
         "name": "mean",
         "dtype": "float64",
         "stats": {
          "unique_count": 21,
          "nan_count": 0,
          "min": "0.495",
          "max": "2124.213",
          "histogram": [
           {
            "bin_start": 0.495,
            "bin_end": 212.86680000000004,
            "count": 17
           },
           {
            "bin_start": 212.86680000000004,
            "bin_end": 425.2386000000001,
            "count": 0
           },
           {
            "bin_start": 425.2386000000001,
            "bin_end": 637.6104000000001,
            "count": 0
           },
           {
            "bin_start": 637.6104000000001,
            "bin_end": 849.9822000000001,
            "count": 1
           },
           {
            "bin_start": 849.9822000000001,
            "bin_end": 1062.354,
            "count": 0
           },
           {
            "bin_start": 1062.354,
            "bin_end": 1274.7258000000002,
            "count": 2
           },
           {
            "bin_start": 1274.7258000000002,
            "bin_end": 1487.0976,
            "count": 0
           },
           {
            "bin_start": 1487.0976,
            "bin_end": 1699.4694000000002,
            "count": 0
           },
           {
            "bin_start": 1699.4694000000002,
            "bin_end": 1911.8412000000003,
            "count": 0
           },
           {
            "bin_start": 1911.8412000000003,
            "bin_end": 2124.213,
            "count": 1
           }
          ]
         }
        },
        {
         "name": "std",
         "dtype": "float64",
         "stats": {
          "unique_count": 21,
          "nan_count": 0,
          "min": "0.2884155496235117",
          "max": "1084.7320436099494",
          "histogram": [
           {
            "bin_start": 0.2884155496235117,
            "bin_end": 108.7327783556561,
            "count": 17
           },
           {
            "bin_start": 108.7327783556561,
            "bin_end": 217.1771411616887,
            "count": 0
           },
           {
            "bin_start": 217.1771411616887,
            "bin_end": 325.62150396772125,
            "count": 0
           },
           {
            "bin_start": 325.62150396772125,
            "bin_end": 434.06586677375384,
            "count": 1
           },
           {
            "bin_start": 434.06586677375384,
            "bin_end": 542.5102295797865,
            "count": 2
           },
           {
            "bin_start": 542.5102295797865,
            "bin_end": 650.9545923858191,
            "count": 0
           },
           {
            "bin_start": 650.9545923858191,
            "bin_end": 759.3989551918517,
            "count": 0
           },
           {
            "bin_start": 759.3989551918517,
            "bin_end": 867.8433179978842,
            "count": 0
           },
           {
            "bin_start": 867.8433179978842,
            "bin_end": 976.2876808039168,
            "count": 0
           },
           {
            "bin_start": 976.2876808039168,
            "bin_end": 1084.7320436099494,
            "count": 1
           }
          ]
         }
        },
        {
         "name": "min",
         "dtype": "float64",
         "stats": {
          "unique_count": 10,
          "nan_count": 0,
          "min": "0.0",
          "max": "501.0",
          "histogram": [
           {
            "bin_start": 0,
            "bin_end": 50.1,
            "count": 17
           },
           {
            "bin_start": 50.1,
            "bin_end": 100.2,
            "count": 1
           },
           {
            "bin_start": 100.2,
            "bin_end": 150.3,
            "count": 0
           },
           {
            "bin_start": 150.3,
            "bin_end": 200.4,
            "count": 0
           },
           {
            "bin_start": 200.4,
            "bin_end": 250.5,
            "count": 0
           },
           {
            "bin_start": 250.5,
            "bin_end": 300.6,
            "count": 1
           },
           {
            "bin_start": 300.6,
            "bin_end": 350.7,
            "count": 0
           },
           {
            "bin_start": 350.7,
            "bin_end": 400.8,
            "count": 0
           },
           {
            "bin_start": 400.8,
            "bin_end": 450.90000000000003,
            "count": 0
           },
           {
            "bin_start": 450.90000000000003,
            "bin_end": 501,
            "count": 2
           }
          ]
         }
        },
        {
         "name": "25%",
         "dtype": "float64",
         "stats": {
          "unique_count": 16,
          "nan_count": 0,
          "min": "0.0",
          "max": "1207.5",
          "histogram": [
           {
            "bin_start": 0,
            "bin_end": 120.75,
            "count": 17
           },
           {
            "bin_start": 120.75,
            "bin_end": 241.5,
            "count": 0
           },
           {
            "bin_start": 241.5,
            "bin_end": 362.25,
            "count": 1
           },
           {
            "bin_start": 362.25,
            "bin_end": 483,
            "count": 0
           },
           {
            "bin_start": 483,
            "bin_end": 603.75,
            "count": 0
           },
           {
            "bin_start": 603.75,
            "bin_end": 724.5,
            "count": 0
           },
           {
            "bin_start": 724.5,
            "bin_end": 845.25,
            "count": 0
           },
           {
            "bin_start": 845.25,
            "bin_end": 966,
            "count": 2
           },
           {
            "bin_start": 966,
            "bin_end": 1086.75,
            "count": 0
           },
           {
            "bin_start": 1086.75,
            "bin_end": 1207.5,
            "count": 1
           }
          ]
         }
        },
        {
         "name": "50%",
         "dtype": "float64",
         "stats": {
          "unique_count": 16,
          "nan_count": 0,
          "min": "0.0",
          "max": "2146.5",
          "histogram": [
           {
            "bin_start": 0,
            "bin_end": 214.65,
            "count": 17
           },
           {
            "bin_start": 214.65,
            "bin_end": 429.3,
            "count": 0
           },
           {
            "bin_start": 429.3,
            "bin_end": 643.95,
            "count": 1
           },
           {
            "bin_start": 643.95,
            "bin_end": 858.6,
            "count": 0
           },
           {
            "bin_start": 858.6,
            "bin_end": 1073.25,
            "count": 0
           },
           {
            "bin_start": 1073.25,
            "bin_end": 1287.9,
            "count": 2
           },
           {
            "bin_start": 1287.9,
            "bin_end": 1502.55,
            "count": 0
           },
           {
            "bin_start": 1502.55,
            "bin_end": 1717.2,
            "count": 0
           },
           {
            "bin_start": 1717.2,
            "bin_end": 1931.8500000000001,
            "count": 0
           },
           {
            "bin_start": 1931.8500000000001,
            "bin_end": 2146.5,
            "count": 1
           }
          ]
         }
        },
        {
         "name": "75%",
         "dtype": "float64",
         "stats": {
          "unique_count": 14,
          "nan_count": 0,
          "min": "0.8",
          "max": "3064.5",
          "histogram": [
           {
            "bin_start": 0.8,
            "bin_end": 307.17,
            "count": 17
           },
           {
            "bin_start": 307.17,
            "bin_end": 613.54,
            "count": 0
           },
           {
            "bin_start": 613.54,
            "bin_end": 919.91,
            "count": 0
           },
           {
            "bin_start": 919.91,
            "bin_end": 1226.28,
            "count": 1
           },
           {
            "bin_start": 1226.28,
            "bin_end": 1532.6499999999999,
            "count": 0
           },
           {
            "bin_start": 1532.6499999999999,
            "bin_end": 1839.02,
            "count": 2
           },
           {
            "bin_start": 1839.02,
            "bin_end": 2145.3900000000003,
            "count": 0
           },
           {
            "bin_start": 2145.3900000000003,
            "bin_end": 2451.76,
            "count": 0
           },
           {
            "bin_start": 2451.76,
            "bin_end": 2758.13,
            "count": 0
           },
           {
            "bin_start": 2758.13,
            "bin_end": 3064.5,
            "count": 1
           }
          ]
         }
        },
        {
         "name": "max",
         "dtype": "float64",
         "stats": {
          "unique_count": 11,
          "nan_count": 0,
          "min": "1.0",
          "max": "3998.0",
          "histogram": [
           {
            "bin_start": 1,
            "bin_end": 400.7,
            "count": 17
           },
           {
            "bin_start": 400.7,
            "bin_end": 800.4,
            "count": 0
           },
           {
            "bin_start": 800.4,
            "bin_end": 1200.1,
            "count": 0
           },
           {
            "bin_start": 1200.1,
            "bin_end": 1599.8,
            "count": 0
           },
           {
            "bin_start": 1599.8,
            "bin_end": 1999.5,
            "count": 3
           },
           {
            "bin_start": 1999.5,
            "bin_end": 2399.2,
            "count": 0
           },
           {
            "bin_start": 2399.2,
            "bin_end": 2798.9,
            "count": 0
           },
           {
            "bin_start": 2798.9,
            "bin_end": 3198.6,
            "count": 0
           },
           {
            "bin_start": 3198.6,
            "bin_end": 3598.2999999999997,
            "count": 0
           },
           {
            "bin_start": 3598.2999999999997,
            "bin_end": 3998,
            "count": 1
           }
          ]
         }
        },
        {
         "name": "_deepnote_index_column",
         "dtype": "object"
        }
       ],
       "rows": [
        {
         "count": 2000,
         "mean": 1238.5185,
         "std": 439.41820608353135,
         "min": 501,
         "25%": 851.75,
         "50%": 1226,
         "75%": 1615.25,
         "max": 1998,
         "_deepnote_index_column": "battery_power"
        },
        {
         "count": 2000,
         "mean": 0.495,
         "std": 0.5001000400170075,
         "min": 0,
         "25%": 0,
         "50%": 0,
         "75%": 1,
         "max": 1,
         "_deepnote_index_column": "blue"
        },
        {
         "count": 2000,
         "mean": 1.52225,
         "std": 0.8160042088950689,
         "min": 0.5,
         "25%": 0.7,
         "50%": 1.5,
         "75%": 2.2,
         "max": 3,
         "_deepnote_index_column": "clock_speed"
        },
        {
         "count": 2000,
         "mean": 0.5095,
         "std": 0.500034766175005,
         "min": 0,
         "25%": 0,
         "50%": 1,
         "75%": 1,
         "max": 1,
         "_deepnote_index_column": "dual_sim"
        },
        {
         "count": 2000,
         "mean": 4.3095,
         "std": 4.341443747983894,
         "min": 0,
         "25%": 1,
         "50%": 3,
         "75%": 7,
         "max": 19,
         "_deepnote_index_column": "fc"
        },
        {
         "count": 2000,
         "mean": 0.5215,
         "std": 0.49966246736236386,
         "min": 0,
         "25%": 0,
         "50%": 1,
         "75%": 1,
         "max": 1,
         "_deepnote_index_column": "four_g"
        },
        {
         "count": 2000,
         "mean": 32.0465,
         "std": 18.145714955206856,
         "min": 2,
         "25%": 16,
         "50%": 32,
         "75%": 48,
         "max": 64,
         "_deepnote_index_column": "int_memory"
        },
        {
         "count": 2000,
         "mean": 0.50175,
         "std": 0.2884155496235117,
         "min": 0.1,
         "25%": 0.2,
         "50%": 0.5,
         "75%": 0.8,
         "max": 1,
         "_deepnote_index_column": "m_dep"
        },
        {
         "count": 2000,
         "mean": 140.249,
         "std": 35.39965489638835,
         "min": 80,
         "25%": 109,
         "50%": 141,
         "75%": 170,
         "max": 200,
         "_deepnote_index_column": "mobile_wt"
        },
        {
         "count": 2000,
         "mean": 4.5205,
         "std": 2.2878367180426604,
         "min": 1,
         "25%": 3,
         "50%": 4,
         "75%": 7,
         "max": 8,
         "_deepnote_index_column": "n_cores"
        }
       ]
      },
      "text/plain": "                count        mean          std    min      25%     50%  \\\nbattery_power  2000.0  1238.51850   439.418206  501.0   851.75  1226.0   \nblue           2000.0     0.49500     0.500100    0.0     0.00     0.0   \nclock_speed    2000.0     1.52225     0.816004    0.5     0.70     1.5   \ndual_sim       2000.0     0.50950     0.500035    0.0     0.00     1.0   \nfc             2000.0     4.30950     4.341444    0.0     1.00     3.0   \nfour_g         2000.0     0.52150     0.499662    0.0     0.00     1.0   \nint_memory     2000.0    32.04650    18.145715    2.0    16.00    32.0   \nm_dep          2000.0     0.50175     0.288416    0.1     0.20     0.5   \nmobile_wt      2000.0   140.24900    35.399655   80.0   109.00   141.0   \nn_cores        2000.0     4.52050     2.287837    1.0     3.00     4.0   \npc             2000.0     9.91650     6.064315    0.0     5.00    10.0   \npx_height      2000.0   645.10800   443.780811    0.0   282.75   564.0   \npx_width       2000.0  1251.51550   432.199447  500.0   874.75  1247.0   \nram            2000.0  2124.21300  1084.732044  256.0  1207.50  2146.5   \nsc_h           2000.0    12.30650     4.213245    5.0     9.00    12.0   \nsc_w           2000.0     5.76700     4.356398    0.0     2.00     5.0   \ntalk_time      2000.0    11.01100     5.463955    2.0     6.00    11.0   \nthree_g        2000.0     0.76150     0.426273    0.0     1.00     1.0   \ntouch_screen   2000.0     0.50300     0.500116    0.0     0.00     1.0   \nwifi           2000.0     0.50700     0.500076    0.0     0.00     1.0   \nprice_range    2000.0     1.50000     1.118314    0.0     0.75     1.5   \n\n                   75%     max  \nbattery_power  1615.25  1998.0  \nblue              1.00     1.0  \nclock_speed       2.20     3.0  \ndual_sim          1.00     1.0  \nfc                7.00    19.0  \nfour_g            1.00     1.0  \nint_memory       48.00    64.0  \nm_dep             0.80     1.0  \nmobile_wt       170.00   200.0  \nn_cores           7.00     8.0  \npc               15.00    20.0  \npx_height       947.25  1960.0  \npx_width       1633.00  1998.0  \nram            3064.50  3998.0  \nsc_h             16.00    19.0  \nsc_w              9.00    18.0  \ntalk_time        16.00    20.0  \nthree_g           1.00     1.0  \ntouch_screen      1.00     1.0  \nwifi              1.00     1.0  \nprice_range       2.25     3.0  ",
      "text/html": "<div>\n<style scoped>\n    .dataframe tbody tr th:only-of-type {\n        vertical-align: middle;\n    }\n\n    .dataframe tbody tr th {\n        vertical-align: top;\n    }\n\n    .dataframe thead th {\n        text-align: right;\n    }\n</style>\n<table border=\"1\" class=\"dataframe\">\n  <thead>\n    <tr style=\"text-align: right;\">\n      <th></th>\n      <th>count</th>\n      <th>mean</th>\n      <th>std</th>\n      <th>min</th>\n      <th>25%</th>\n      <th>50%</th>\n      <th>75%</th>\n      <th>max</th>\n    </tr>\n  </thead>\n  <tbody>\n    <tr>\n      <th>battery_power</th>\n      <td>2000.0</td>\n      <td>1238.51850</td>\n      <td>439.418206</td>\n      <td>501.0</td>\n      <td>851.75</td>\n      <td>1226.0</td>\n      <td>1615.25</td>\n      <td>1998.0</td>\n    </tr>\n    <tr>\n      <th>blue</th>\n      <td>2000.0</td>\n      <td>0.49500</td>\n      <td>0.500100</td>\n      <td>0.0</td>\n      <td>0.00</td>\n      <td>0.0</td>\n      <td>1.00</td>\n      <td>1.0</td>\n    </tr>\n    <tr>\n      <th>clock_speed</th>\n      <td>2000.0</td>\n      <td>1.52225</td>\n      <td>0.816004</td>\n      <td>0.5</td>\n      <td>0.70</td>\n      <td>1.5</td>\n      <td>2.20</td>\n      <td>3.0</td>\n    </tr>\n    <tr>\n      <th>dual_sim</th>\n      <td>2000.0</td>\n      <td>0.50950</td>\n      <td>0.500035</td>\n      <td>0.0</td>\n      <td>0.00</td>\n      <td>1.0</td>\n      <td>1.00</td>\n      <td>1.0</td>\n    </tr>\n    <tr>\n      <th>fc</th>\n      <td>2000.0</td>\n      <td>4.30950</td>\n      <td>4.341444</td>\n      <td>0.0</td>\n      <td>1.00</td>\n      <td>3.0</td>\n      <td>7.00</td>\n      <td>19.0</td>\n    </tr>\n    <tr>\n      <th>four_g</th>\n      <td>2000.0</td>\n      <td>0.52150</td>\n      <td>0.499662</td>\n      <td>0.0</td>\n      <td>0.00</td>\n      <td>1.0</td>\n      <td>1.00</td>\n      <td>1.0</td>\n    </tr>\n    <tr>\n      <th>int_memory</th>\n      <td>2000.0</td>\n      <td>32.04650</td>\n      <td>18.145715</td>\n      <td>2.0</td>\n      <td>16.00</td>\n      <td>32.0</td>\n      <td>48.00</td>\n      <td>64.0</td>\n    </tr>\n    <tr>\n      <th>m_dep</th>\n      <td>2000.0</td>\n      <td>0.50175</td>\n      <td>0.288416</td>\n      <td>0.1</td>\n      <td>0.20</td>\n      <td>0.5</td>\n      <td>0.80</td>\n      <td>1.0</td>\n    </tr>\n    <tr>\n      <th>mobile_wt</th>\n      <td>2000.0</td>\n      <td>140.24900</td>\n      <td>35.399655</td>\n      <td>80.0</td>\n      <td>109.00</td>\n      <td>141.0</td>\n      <td>170.00</td>\n      <td>200.0</td>\n    </tr>\n    <tr>\n      <th>n_cores</th>\n      <td>2000.0</td>\n      <td>4.52050</td>\n      <td>2.287837</td>\n      <td>1.0</td>\n      <td>3.00</td>\n      <td>4.0</td>\n      <td>7.00</td>\n      <td>8.0</td>\n    </tr>\n    <tr>\n      <th>pc</th>\n      <td>2000.0</td>\n      <td>9.91650</td>\n      <td>6.064315</td>\n      <td>0.0</td>\n      <td>5.00</td>\n      <td>10.0</td>\n      <td>15.00</td>\n      <td>20.0</td>\n    </tr>\n    <tr>\n      <th>px_height</th>\n      <td>2000.0</td>\n      <td>645.10800</td>\n      <td>443.780811</td>\n      <td>0.0</td>\n      <td>282.75</td>\n      <td>564.0</td>\n      <td>947.25</td>\n      <td>1960.0</td>\n    </tr>\n    <tr>\n      <th>px_width</th>\n      <td>2000.0</td>\n      <td>1251.51550</td>\n      <td>432.199447</td>\n      <td>500.0</td>\n      <td>874.75</td>\n      <td>1247.0</td>\n      <td>1633.00</td>\n      <td>1998.0</td>\n    </tr>\n    <tr>\n      <th>ram</th>\n      <td>2000.0</td>\n      <td>2124.21300</td>\n      <td>1084.732044</td>\n      <td>256.0</td>\n      <td>1207.50</td>\n      <td>2146.5</td>\n      <td>3064.50</td>\n      <td>3998.0</td>\n    </tr>\n    <tr>\n      <th>sc_h</th>\n      <td>2000.0</td>\n      <td>12.30650</td>\n      <td>4.213245</td>\n      <td>5.0</td>\n      <td>9.00</td>\n      <td>12.0</td>\n      <td>16.00</td>\n      <td>19.0</td>\n    </tr>\n    <tr>\n      <th>sc_w</th>\n      <td>2000.0</td>\n      <td>5.76700</td>\n      <td>4.356398</td>\n      <td>0.0</td>\n      <td>2.00</td>\n      <td>5.0</td>\n      <td>9.00</td>\n      <td>18.0</td>\n    </tr>\n    <tr>\n      <th>talk_time</th>\n      <td>2000.0</td>\n      <td>11.01100</td>\n      <td>5.463955</td>\n      <td>2.0</td>\n      <td>6.00</td>\n      <td>11.0</td>\n      <td>16.00</td>\n      <td>20.0</td>\n    </tr>\n    <tr>\n      <th>three_g</th>\n      <td>2000.0</td>\n      <td>0.76150</td>\n      <td>0.426273</td>\n      <td>0.0</td>\n      <td>1.00</td>\n      <td>1.0</td>\n      <td>1.00</td>\n      <td>1.0</td>\n    </tr>\n    <tr>\n      <th>touch_screen</th>\n      <td>2000.0</td>\n      <td>0.50300</td>\n      <td>0.500116</td>\n      <td>0.0</td>\n      <td>0.00</td>\n      <td>1.0</td>\n      <td>1.00</td>\n      <td>1.0</td>\n    </tr>\n    <tr>\n      <th>wifi</th>\n      <td>2000.0</td>\n      <td>0.50700</td>\n      <td>0.500076</td>\n      <td>0.0</td>\n      <td>0.00</td>\n      <td>1.0</td>\n      <td>1.00</td>\n      <td>1.0</td>\n    </tr>\n    <tr>\n      <th>price_range</th>\n      <td>2000.0</td>\n      <td>1.50000</td>\n      <td>1.118314</td>\n      <td>0.0</td>\n      <td>0.75</td>\n      <td>1.5</td>\n      <td>2.25</td>\n      <td>3.0</td>\n    </tr>\n  </tbody>\n</table>\n</div>"
     },
     "metadata": {}
    }
   ]
  },
  {
   "cell_type": "markdown",
   "source": "## 2.2 Check for the presence of duplicate data, identify the attributes with duplicate data, report the attributes. Mention the method adopted to remove duplicate data if present. Report the results again.",
   "metadata": {
    "cell_id": "00015-3eaf4311-7708-4db4-9a8b-4da4d3d74f75",
    "deepnote_cell_type": "markdown",
    "deepnote_cell_height": 190
   }
  },
  {
   "cell_type": "code",
   "metadata": {
    "cell_id": "00016-e733c981-5ca6-4302-9993-bbecb930dfb1",
    "deepnote_to_be_reexecuted": false,
    "source_hash": "16bb4fc3",
    "execution_start": 1652546607149,
    "execution_millis": 34,
    "deepnote_cell_type": "code",
    "deepnote_cell_height": 365.375,
    "deepnote_output_heights": [
     232.390625
    ]
   },
   "source": "##---------Type the code below this line------------------##\ndata.duplicated()\n",
   "execution_count": 11,
   "outputs": [
    {
     "output_type": "execute_result",
     "execution_count": 11,
     "data": {
      "text/plain": "0       False\n1       False\n2       False\n3       False\n4       False\n        ...  \n1995    False\n1996    False\n1997    False\n1998    False\n1999    False\nLength: 2000, dtype: bool"
     },
     "metadata": {}
    }
   ]
  },
  {
   "cell_type": "markdown",
   "source": "## 2.3 Show whether there are any missing values in each attribute. Report the same. Clean the missing data using any imputation technique, mention the method used and again report the change after cleaning the data.\n",
   "metadata": {
    "cell_id": "00017-a1006b2f-e4cf-46c9-a6c1-ad9e1e361df2",
    "deepnote_cell_type": "markdown",
    "deepnote_cell_height": 190
   }
  },
  {
   "cell_type": "code",
   "metadata": {
    "cell_id": "00018-101dc63d-da75-44b0-9271-e8374a09f099",
    "deepnote_to_be_reexecuted": false,
    "source_hash": "1c5a5313",
    "execution_start": 1652546607192,
    "execution_millis": 26,
    "deepnote_cell_type": "code",
    "deepnote_cell_height": 539.375,
    "deepnote_output_heights": [
     424.390625
    ]
   },
   "source": "##---------Type the code below this line------------------##\ndata.isnull().sum()",
   "execution_count": 12,
   "outputs": [
    {
     "output_type": "execute_result",
     "execution_count": 12,
     "data": {
      "text/plain": "battery_power    0\nblue             0\nclock_speed      0\ndual_sim         0\nfc               0\nfour_g           0\nint_memory       0\nm_dep            0\nmobile_wt        0\nn_cores          0\npc               0\npx_height        0\npx_width         0\nram              0\nsc_h             0\nsc_w             0\ntalk_time        0\nthree_g          0\ntouch_screen     0\nwifi             0\nprice_range      0\ndtype: int64"
     },
     "metadata": {}
    }
   ]
  },
  {
   "cell_type": "markdown",
   "source": "## 2.4 Check if all the attributes are following the same format and are consistent. If not, report all such attributes and what inconsistencies are present. Correct the data if there are inconsistencies. Report or print the data after correction.",
   "metadata": {
    "cell_id": "00019-836f5281-7b50-40c2-ad24-8001405c132d",
    "deepnote_cell_type": "markdown",
    "deepnote_cell_height": 230
   }
  },
  {
   "cell_type": "code",
   "metadata": {
    "cell_id": "00020-56528606-c8e6-4351-87bc-4383d17fcdf8",
    "deepnote_to_be_reexecuted": false,
    "source_hash": "61a75da3",
    "execution_start": 1652546607227,
    "execution_millis": 383,
    "deepnote_cell_type": "code",
    "deepnote_cell_height": 552.796875
   },
   "source": "##---------Type the code below this line------------------##\ndata.describe()",
   "execution_count": 13,
   "outputs": [
    {
     "output_type": "execute_result",
     "execution_count": 13,
     "data": {
      "application/vnd.deepnote.dataframe.v3+json": {
       "column_count": 21,
       "row_count": 8,
       "columns": [
        {
         "name": "battery_power",
         "dtype": "float64",
         "stats": {
          "unique_count": 8,
          "nan_count": 0,
          "min": "439.41820608353135",
          "max": "2000.0",
          "histogram": [
           {
            "bin_start": 439.41820608353135,
            "bin_end": 595.4763854751782,
            "count": 2
           },
           {
            "bin_start": 595.4763854751782,
            "bin_end": 751.5345648668251,
            "count": 0
           },
           {
            "bin_start": 751.5345648668251,
            "bin_end": 907.592744258472,
            "count": 1
           },
           {
            "bin_start": 907.592744258472,
            "bin_end": 1063.6509236501188,
            "count": 0
           },
           {
            "bin_start": 1063.6509236501188,
            "bin_end": 1219.7091030417655,
            "count": 0
           },
           {
            "bin_start": 1219.7091030417655,
            "bin_end": 1375.7672824334127,
            "count": 2
           },
           {
            "bin_start": 1375.7672824334127,
            "bin_end": 1531.8254618250594,
            "count": 0
           },
           {
            "bin_start": 1531.8254618250594,
            "bin_end": 1687.883641216706,
            "count": 1
           },
           {
            "bin_start": 1687.883641216706,
            "bin_end": 1843.9418206083533,
            "count": 0
           },
           {
            "bin_start": 1843.9418206083533,
            "bin_end": 2000,
            "count": 2
           }
          ]
         }
        },
        {
         "name": "blue",
         "dtype": "float64",
         "stats": {
          "unique_count": 5,
          "nan_count": 0,
          "min": "0.0",
          "max": "2000.0",
          "histogram": [
           {
            "bin_start": 0,
            "bin_end": 200,
            "count": 7
           },
           {
            "bin_start": 200,
            "bin_end": 400,
            "count": 0
           },
           {
            "bin_start": 400,
            "bin_end": 600,
            "count": 0
           },
           {
            "bin_start": 600,
            "bin_end": 800,
            "count": 0
           },
           {
            "bin_start": 800,
            "bin_end": 1000,
            "count": 0
           },
           {
            "bin_start": 1000,
            "bin_end": 1200,
            "count": 0
           },
           {
            "bin_start": 1200,
            "bin_end": 1400,
            "count": 0
           },
           {
            "bin_start": 1400,
            "bin_end": 1600,
            "count": 0
           },
           {
            "bin_start": 1600,
            "bin_end": 1800,
            "count": 0
           },
           {
            "bin_start": 1800,
            "bin_end": 2000,
            "count": 1
           }
          ]
         }
        },
        {
         "name": "clock_speed",
         "dtype": "float64",
         "stats": {
          "unique_count": 8,
          "nan_count": 0,
          "min": "0.5",
          "max": "2000.0",
          "histogram": [
           {
            "bin_start": 0.5,
            "bin_end": 200.45,
            "count": 7
           },
           {
            "bin_start": 200.45,
            "bin_end": 400.4,
            "count": 0
           },
           {
            "bin_start": 400.4,
            "bin_end": 600.3499999999999,
            "count": 0
           },
           {
            "bin_start": 600.3499999999999,
            "bin_end": 800.3,
            "count": 0
           },
           {
            "bin_start": 800.3,
            "bin_end": 1000.25,
            "count": 0
           },
           {
            "bin_start": 1000.25,
            "bin_end": 1200.1999999999998,
            "count": 0
           },
           {
            "bin_start": 1200.1999999999998,
            "bin_end": 1400.1499999999999,
            "count": 0
           },
           {
            "bin_start": 1400.1499999999999,
            "bin_end": 1600.1,
            "count": 0
           },
           {
            "bin_start": 1600.1,
            "bin_end": 1800.05,
            "count": 0
           },
           {
            "bin_start": 1800.05,
            "bin_end": 2000,
            "count": 1
           }
          ]
         }
        },
        {
         "name": "dual_sim",
         "dtype": "float64",
         "stats": {
          "unique_count": 5,
          "nan_count": 0,
          "min": "0.0",
          "max": "2000.0",
          "histogram": [
           {
            "bin_start": 0,
            "bin_end": 200,
            "count": 7
           },
           {
            "bin_start": 200,
            "bin_end": 400,
            "count": 0
           },
           {
            "bin_start": 400,
            "bin_end": 600,
            "count": 0
           },
           {
            "bin_start": 600,
            "bin_end": 800,
            "count": 0
           },
           {
            "bin_start": 800,
            "bin_end": 1000,
            "count": 0
           },
           {
            "bin_start": 1000,
            "bin_end": 1200,
            "count": 0
           },
           {
            "bin_start": 1200,
            "bin_end": 1400,
            "count": 0
           },
           {
            "bin_start": 1400,
            "bin_end": 1600,
            "count": 0
           },
           {
            "bin_start": 1600,
            "bin_end": 1800,
            "count": 0
           },
           {
            "bin_start": 1800,
            "bin_end": 2000,
            "count": 1
           }
          ]
         }
        },
        {
         "name": "fc",
         "dtype": "float64",
         "stats": {
          "unique_count": 8,
          "nan_count": 0,
          "min": "0.0",
          "max": "2000.0",
          "histogram": [
           {
            "bin_start": 0,
            "bin_end": 200,
            "count": 7
           },
           {
            "bin_start": 200,
            "bin_end": 400,
            "count": 0
           },
           {
            "bin_start": 400,
            "bin_end": 600,
            "count": 0
           },
           {
            "bin_start": 600,
            "bin_end": 800,
            "count": 0
           },
           {
            "bin_start": 800,
            "bin_end": 1000,
            "count": 0
           },
           {
            "bin_start": 1000,
            "bin_end": 1200,
            "count": 0
           },
           {
            "bin_start": 1200,
            "bin_end": 1400,
            "count": 0
           },
           {
            "bin_start": 1400,
            "bin_end": 1600,
            "count": 0
           },
           {
            "bin_start": 1600,
            "bin_end": 1800,
            "count": 0
           },
           {
            "bin_start": 1800,
            "bin_end": 2000,
            "count": 1
           }
          ]
         }
        },
        {
         "name": "four_g",
         "dtype": "float64",
         "stats": {
          "unique_count": 5,
          "nan_count": 0,
          "min": "0.0",
          "max": "2000.0",
          "histogram": [
           {
            "bin_start": 0,
            "bin_end": 200,
            "count": 7
           },
           {
            "bin_start": 200,
            "bin_end": 400,
            "count": 0
           },
           {
            "bin_start": 400,
            "bin_end": 600,
            "count": 0
           },
           {
            "bin_start": 600,
            "bin_end": 800,
            "count": 0
           },
           {
            "bin_start": 800,
            "bin_end": 1000,
            "count": 0
           },
           {
            "bin_start": 1000,
            "bin_end": 1200,
            "count": 0
           },
           {
            "bin_start": 1200,
            "bin_end": 1400,
            "count": 0
           },
           {
            "bin_start": 1400,
            "bin_end": 1600,
            "count": 0
           },
           {
            "bin_start": 1600,
            "bin_end": 1800,
            "count": 0
           },
           {
            "bin_start": 1800,
            "bin_end": 2000,
            "count": 1
           }
          ]
         }
        },
        {
         "name": "int_memory",
         "dtype": "float64",
         "stats": {
          "unique_count": 8,
          "nan_count": 0,
          "min": "2.0",
          "max": "2000.0",
          "histogram": [
           {
            "bin_start": 2,
            "bin_end": 201.8,
            "count": 7
           },
           {
            "bin_start": 201.8,
            "bin_end": 401.6,
            "count": 0
           },
           {
            "bin_start": 401.6,
            "bin_end": 601.4000000000001,
            "count": 0
           },
           {
            "bin_start": 601.4000000000001,
            "bin_end": 801.2,
            "count": 0
           },
           {
            "bin_start": 801.2,
            "bin_end": 1001,
            "count": 0
           },
           {
            "bin_start": 1001,
            "bin_end": 1200.8000000000002,
            "count": 0
           },
           {
            "bin_start": 1200.8000000000002,
            "bin_end": 1400.6000000000001,
            "count": 0
           },
           {
            "bin_start": 1400.6000000000001,
            "bin_end": 1600.4,
            "count": 0
           },
           {
            "bin_start": 1600.4,
            "bin_end": 1800.2,
            "count": 0
           },
           {
            "bin_start": 1800.2,
            "bin_end": 2000,
            "count": 1
           }
          ]
         }
        },
        {
         "name": "m_dep",
         "dtype": "float64",
         "stats": {
          "unique_count": 8,
          "nan_count": 0,
          "min": "0.1",
          "max": "2000.0",
          "histogram": [
           {
            "bin_start": 0.1,
            "bin_end": 200.09,
            "count": 7
           },
           {
            "bin_start": 200.09,
            "bin_end": 400.08000000000004,
            "count": 0
           },
           {
            "bin_start": 400.08000000000004,
            "bin_end": 600.07,
            "count": 0
           },
           {
            "bin_start": 600.07,
            "bin_end": 800.0600000000001,
            "count": 0
           },
           {
            "bin_start": 800.0600000000001,
            "bin_end": 1000.0500000000001,
            "count": 0
           },
           {
            "bin_start": 1000.0500000000001,
            "bin_end": 1200.04,
            "count": 0
           },
           {
            "bin_start": 1200.04,
            "bin_end": 1400.03,
            "count": 0
           },
           {
            "bin_start": 1400.03,
            "bin_end": 1600.02,
            "count": 0
           },
           {
            "bin_start": 1600.02,
            "bin_end": 1800.01,
            "count": 0
           },
           {
            "bin_start": 1800.01,
            "bin_end": 2000,
            "count": 1
           }
          ]
         }
        },
        {
         "name": "mobile_wt",
         "dtype": "float64",
         "stats": {
          "unique_count": 8,
          "nan_count": 0,
          "min": "35.39965489638835",
          "max": "2000.0",
          "histogram": [
           {
            "bin_start": 35.39965489638835,
            "bin_end": 231.8596894067495,
            "count": 7
           },
           {
            "bin_start": 231.8596894067495,
            "bin_end": 428.3197239171107,
            "count": 0
           },
           {
            "bin_start": 428.3197239171107,
            "bin_end": 624.7797584274718,
            "count": 0
           },
           {
            "bin_start": 624.7797584274718,
            "bin_end": 821.239792937833,
            "count": 0
           },
           {
            "bin_start": 821.239792937833,
            "bin_end": 1017.6998274481942,
            "count": 0
           },
           {
            "bin_start": 1017.6998274481942,
            "bin_end": 1214.1598619585552,
            "count": 0
           },
           {
            "bin_start": 1214.1598619585552,
            "bin_end": 1410.6198964689165,
            "count": 0
           },
           {
            "bin_start": 1410.6198964689165,
            "bin_end": 1607.0799309792776,
            "count": 0
           },
           {
            "bin_start": 1607.0799309792776,
            "bin_end": 1803.5399654896387,
            "count": 0
           },
           {
            "bin_start": 1803.5399654896387,
            "bin_end": 2000,
            "count": 1
           }
          ]
         }
        },
        {
         "name": "n_cores",
         "dtype": "float64",
         "stats": {
          "unique_count": 8,
          "nan_count": 0,
          "min": "1.0",
          "max": "2000.0",
          "histogram": [
           {
            "bin_start": 1,
            "bin_end": 200.9,
            "count": 7
           },
           {
            "bin_start": 200.9,
            "bin_end": 400.8,
            "count": 0
           },
           {
            "bin_start": 400.8,
            "bin_end": 600.7,
            "count": 0
           },
           {
            "bin_start": 600.7,
            "bin_end": 800.6,
            "count": 0
           },
           {
            "bin_start": 800.6,
            "bin_end": 1000.5,
            "count": 0
           },
           {
            "bin_start": 1000.5,
            "bin_end": 1200.4,
            "count": 0
           },
           {
            "bin_start": 1200.4,
            "bin_end": 1400.3,
            "count": 0
           },
           {
            "bin_start": 1400.3,
            "bin_end": 1600.2,
            "count": 0
           },
           {
            "bin_start": 1600.2,
            "bin_end": 1800.1000000000001,
            "count": 0
           },
           {
            "bin_start": 1800.1000000000001,
            "bin_end": 2000,
            "count": 1
           }
          ]
         }
        },
        {
         "name": "pc",
         "dtype": "float64",
         "stats": {
          "unique_count": 8,
          "nan_count": 0,
          "min": "0.0",
          "max": "2000.0",
          "histogram": [
           {
            "bin_start": 0,
            "bin_end": 200,
            "count": 7
           },
           {
            "bin_start": 200,
            "bin_end": 400,
            "count": 0
           },
           {
            "bin_start": 400,
            "bin_end": 600,
            "count": 0
           },
           {
            "bin_start": 600,
            "bin_end": 800,
            "count": 0
           },
           {
            "bin_start": 800,
            "bin_end": 1000,
            "count": 0
           },
           {
            "bin_start": 1000,
            "bin_end": 1200,
            "count": 0
           },
           {
            "bin_start": 1200,
            "bin_end": 1400,
            "count": 0
           },
           {
            "bin_start": 1400,
            "bin_end": 1600,
            "count": 0
           },
           {
            "bin_start": 1600,
            "bin_end": 1800,
            "count": 0
           },
           {
            "bin_start": 1800,
            "bin_end": 2000,
            "count": 1
           }
          ]
         }
        },
        {
         "name": "px_height",
         "dtype": "float64",
         "stats": {
          "unique_count": 8,
          "nan_count": 0,
          "min": "0.0",
          "max": "2000.0",
          "histogram": [
           {
            "bin_start": 0,
            "bin_end": 200,
            "count": 1
           },
           {
            "bin_start": 200,
            "bin_end": 400,
            "count": 1
           },
           {
            "bin_start": 400,
            "bin_end": 600,
            "count": 2
           },
           {
            "bin_start": 600,
            "bin_end": 800,
            "count": 1
           },
           {
            "bin_start": 800,
            "bin_end": 1000,
            "count": 1
           },
           {
            "bin_start": 1000,
            "bin_end": 1200,
            "count": 0
           },
           {
            "bin_start": 1200,
            "bin_end": 1400,
            "count": 0
           },
           {
            "bin_start": 1400,
            "bin_end": 1600,
            "count": 0
           },
           {
            "bin_start": 1600,
            "bin_end": 1800,
            "count": 0
           },
           {
            "bin_start": 1800,
            "bin_end": 2000,
            "count": 2
           }
          ]
         }
        },
        {
         "name": "px_width",
         "dtype": "float64",
         "stats": {
          "unique_count": 8,
          "nan_count": 0,
          "min": "432.19944694633796",
          "max": "2000.0",
          "histogram": [
           {
            "bin_start": 432.19944694633796,
            "bin_end": 588.9795022517042,
            "count": 2
           },
           {
            "bin_start": 588.9795022517042,
            "bin_end": 745.7595575570704,
            "count": 0
           },
           {
            "bin_start": 745.7595575570704,
            "bin_end": 902.5396128624366,
            "count": 1
           },
           {
            "bin_start": 902.5396128624366,
            "bin_end": 1059.3196681678028,
            "count": 0
           },
           {
            "bin_start": 1059.3196681678028,
            "bin_end": 1216.099723473169,
            "count": 0
           },
           {
            "bin_start": 1216.099723473169,
            "bin_end": 1372.8797787785352,
            "count": 2
           },
           {
            "bin_start": 1372.8797787785352,
            "bin_end": 1529.6598340839014,
            "count": 0
           },
           {
            "bin_start": 1529.6598340839014,
            "bin_end": 1686.4398893892676,
            "count": 1
           },
           {
            "bin_start": 1686.4398893892676,
            "bin_end": 1843.2199446946338,
            "count": 0
           },
           {
            "bin_start": 1843.2199446946338,
            "bin_end": 2000,
            "count": 2
           }
          ]
         }
        },
        {
         "name": "ram",
         "dtype": "float64",
         "stats": {
          "unique_count": 8,
          "nan_count": 0,
          "min": "256.0",
          "max": "3998.0",
          "histogram": [
           {
            "bin_start": 256,
            "bin_end": 630.2,
            "count": 1
           },
           {
            "bin_start": 630.2,
            "bin_end": 1004.4,
            "count": 0
           },
           {
            "bin_start": 1004.4,
            "bin_end": 1378.6,
            "count": 2
           },
           {
            "bin_start": 1378.6,
            "bin_end": 1752.8,
            "count": 0
           },
           {
            "bin_start": 1752.8,
            "bin_end": 2127,
            "count": 2
           },
           {
            "bin_start": 2127,
            "bin_end": 2501.2,
            "count": 1
           },
           {
            "bin_start": 2501.2,
            "bin_end": 2875.4,
            "count": 0
           },
           {
            "bin_start": 2875.4,
            "bin_end": 3249.6,
            "count": 1
           },
           {
            "bin_start": 3249.6,
            "bin_end": 3623.7999999999997,
            "count": 0
           },
           {
            "bin_start": 3623.7999999999997,
            "bin_end": 3998,
            "count": 1
           }
          ]
         }
        },
        {
         "name": "sc_h",
         "dtype": "float64",
         "stats": {
          "unique_count": 8,
          "nan_count": 0,
          "min": "4.213245004356306",
          "max": "2000.0",
          "histogram": [
           {
            "bin_start": 4.213245004356306,
            "bin_end": 203.79192050392066,
            "count": 7
           },
           {
            "bin_start": 203.79192050392066,
            "bin_end": 403.370596003485,
            "count": 0
           },
           {
            "bin_start": 403.370596003485,
            "bin_end": 602.9492715030493,
            "count": 0
           },
           {
            "bin_start": 602.9492715030493,
            "bin_end": 802.5279470026137,
            "count": 0
           },
           {
            "bin_start": 802.5279470026137,
            "bin_end": 1002.1066225021781,
            "count": 0
           },
           {
            "bin_start": 1002.1066225021781,
            "bin_end": 1201.6852980017425,
            "count": 0
           },
           {
            "bin_start": 1201.6852980017425,
            "bin_end": 1401.263973501307,
            "count": 0
           },
           {
            "bin_start": 1401.263973501307,
            "bin_end": 1600.8426490008712,
            "count": 0
           },
           {
            "bin_start": 1600.8426490008712,
            "bin_end": 1800.4213245004355,
            "count": 0
           },
           {
            "bin_start": 1800.4213245004355,
            "bin_end": 2000,
            "count": 1
           }
          ]
         }
        },
        {
         "name": "sc_w",
         "dtype": "float64",
         "stats": {
          "unique_count": 8,
          "nan_count": 0,
          "min": "0.0",
          "max": "2000.0",
          "histogram": [
           {
            "bin_start": 0,
            "bin_end": 200,
            "count": 7
           },
           {
            "bin_start": 200,
            "bin_end": 400,
            "count": 0
           },
           {
            "bin_start": 400,
            "bin_end": 600,
            "count": 0
           },
           {
            "bin_start": 600,
            "bin_end": 800,
            "count": 0
           },
           {
            "bin_start": 800,
            "bin_end": 1000,
            "count": 0
           },
           {
            "bin_start": 1000,
            "bin_end": 1200,
            "count": 0
           },
           {
            "bin_start": 1200,
            "bin_end": 1400,
            "count": 0
           },
           {
            "bin_start": 1400,
            "bin_end": 1600,
            "count": 0
           },
           {
            "bin_start": 1600,
            "bin_end": 1800,
            "count": 0
           },
           {
            "bin_start": 1800,
            "bin_end": 2000,
            "count": 1
           }
          ]
         }
        },
        {
         "name": "talk_time",
         "dtype": "float64",
         "stats": {
          "unique_count": 8,
          "nan_count": 0,
          "min": "2.0",
          "max": "2000.0",
          "histogram": [
           {
            "bin_start": 2,
            "bin_end": 201.8,
            "count": 7
           },
           {
            "bin_start": 201.8,
            "bin_end": 401.6,
            "count": 0
           },
           {
            "bin_start": 401.6,
            "bin_end": 601.4000000000001,
            "count": 0
           },
           {
            "bin_start": 601.4000000000001,
            "bin_end": 801.2,
            "count": 0
           },
           {
            "bin_start": 801.2,
            "bin_end": 1001,
            "count": 0
           },
           {
            "bin_start": 1001,
            "bin_end": 1200.8000000000002,
            "count": 0
           },
           {
            "bin_start": 1200.8000000000002,
            "bin_end": 1400.6000000000001,
            "count": 0
           },
           {
            "bin_start": 1400.6000000000001,
            "bin_end": 1600.4,
            "count": 0
           },
           {
            "bin_start": 1600.4,
            "bin_end": 1800.2,
            "count": 0
           },
           {
            "bin_start": 1800.2,
            "bin_end": 2000,
            "count": 1
           }
          ]
         }
        },
        {
         "name": "three_g",
         "dtype": "float64",
         "stats": {
          "unique_count": 5,
          "nan_count": 0,
          "min": "0.0",
          "max": "2000.0",
          "histogram": [
           {
            "bin_start": 0,
            "bin_end": 200,
            "count": 7
           },
           {
            "bin_start": 200,
            "bin_end": 400,
            "count": 0
           },
           {
            "bin_start": 400,
            "bin_end": 600,
            "count": 0
           },
           {
            "bin_start": 600,
            "bin_end": 800,
            "count": 0
           },
           {
            "bin_start": 800,
            "bin_end": 1000,
            "count": 0
           },
           {
            "bin_start": 1000,
            "bin_end": 1200,
            "count": 0
           },
           {
            "bin_start": 1200,
            "bin_end": 1400,
            "count": 0
           },
           {
            "bin_start": 1400,
            "bin_end": 1600,
            "count": 0
           },
           {
            "bin_start": 1600,
            "bin_end": 1800,
            "count": 0
           },
           {
            "bin_start": 1800,
            "bin_end": 2000,
            "count": 1
           }
          ]
         }
        },
        {
         "name": "touch_screen",
         "dtype": "float64",
         "stats": {
          "unique_count": 5,
          "nan_count": 0,
          "min": "0.0",
          "max": "2000.0",
          "histogram": [
           {
            "bin_start": 0,
            "bin_end": 200,
            "count": 7
           },
           {
            "bin_start": 200,
            "bin_end": 400,
            "count": 0
           },
           {
            "bin_start": 400,
            "bin_end": 600,
            "count": 0
           },
           {
            "bin_start": 600,
            "bin_end": 800,
            "count": 0
           },
           {
            "bin_start": 800,
            "bin_end": 1000,
            "count": 0
           },
           {
            "bin_start": 1000,
            "bin_end": 1200,
            "count": 0
           },
           {
            "bin_start": 1200,
            "bin_end": 1400,
            "count": 0
           },
           {
            "bin_start": 1400,
            "bin_end": 1600,
            "count": 0
           },
           {
            "bin_start": 1600,
            "bin_end": 1800,
            "count": 0
           },
           {
            "bin_start": 1800,
            "bin_end": 2000,
            "count": 1
           }
          ]
         }
        },
        {
         "name": "wifi",
         "dtype": "float64",
         "stats": {
          "unique_count": 5,
          "nan_count": 0,
          "min": "0.0",
          "max": "2000.0",
          "histogram": [
           {
            "bin_start": 0,
            "bin_end": 200,
            "count": 7
           },
           {
            "bin_start": 200,
            "bin_end": 400,
            "count": 0
           },
           {
            "bin_start": 400,
            "bin_end": 600,
            "count": 0
           },
           {
            "bin_start": 600,
            "bin_end": 800,
            "count": 0
           },
           {
            "bin_start": 800,
            "bin_end": 1000,
            "count": 0
           },
           {
            "bin_start": 1000,
            "bin_end": 1200,
            "count": 0
           },
           {
            "bin_start": 1200,
            "bin_end": 1400,
            "count": 0
           },
           {
            "bin_start": 1400,
            "bin_end": 1600,
            "count": 0
           },
           {
            "bin_start": 1600,
            "bin_end": 1800,
            "count": 0
           },
           {
            "bin_start": 1800,
            "bin_end": 2000,
            "count": 1
           }
          ]
         }
        },
        {
         "name": "price_range",
         "dtype": "float64",
         "stats": {
          "unique_count": 7,
          "nan_count": 0,
          "min": "0.0",
          "max": "2000.0",
          "histogram": [
           {
            "bin_start": 0,
            "bin_end": 200,
            "count": 7
           },
           {
            "bin_start": 200,
            "bin_end": 400,
            "count": 0
           },
           {
            "bin_start": 400,
            "bin_end": 600,
            "count": 0
           },
           {
            "bin_start": 600,
            "bin_end": 800,
            "count": 0
           },
           {
            "bin_start": 800,
            "bin_end": 1000,
            "count": 0
           },
           {
            "bin_start": 1000,
            "bin_end": 1200,
            "count": 0
           },
           {
            "bin_start": 1200,
            "bin_end": 1400,
            "count": 0
           },
           {
            "bin_start": 1400,
            "bin_end": 1600,
            "count": 0
           },
           {
            "bin_start": 1600,
            "bin_end": 1800,
            "count": 0
           },
           {
            "bin_start": 1800,
            "bin_end": 2000,
            "count": 1
           }
          ]
         }
        },
        {
         "name": "_deepnote_index_column",
         "dtype": "object"
        }
       ],
       "rows": [
        {
         "battery_power": 2000,
         "blue": 2000,
         "clock_speed": 2000,
         "dual_sim": 2000,
         "fc": 2000,
         "four_g": 2000,
         "int_memory": 2000,
         "m_dep": 2000,
         "mobile_wt": 2000,
         "n_cores": 2000,
         "pc": 2000,
         "px_height": 2000,
         "px_width": 2000,
         "ram": 2000,
         "sc_h": 2000,
         "sc_w": 2000,
         "talk_time": 2000,
         "three_g": 2000,
         "touch_screen": 2000,
         "wifi": 2000,
         "price_range": 2000,
         "_deepnote_index_column": "count"
        },
        {
         "battery_power": 1238.5185,
         "blue": 0.495,
         "clock_speed": 1.52225,
         "dual_sim": 0.5095,
         "fc": 4.3095,
         "four_g": 0.5215,
         "int_memory": 32.0465,
         "m_dep": 0.50175,
         "mobile_wt": 140.249,
         "n_cores": 4.5205,
         "pc": 9.9165,
         "px_height": 645.108,
         "px_width": 1251.5155,
         "ram": 2124.213,
         "sc_h": 12.3065,
         "sc_w": 5.767,
         "talk_time": 11.011,
         "three_g": 0.7615,
         "touch_screen": 0.503,
         "wifi": 0.507,
         "price_range": 1.5,
         "_deepnote_index_column": "mean"
        },
        {
         "battery_power": 439.41820608353135,
         "blue": 0.5001000400170075,
         "clock_speed": 0.8160042088950689,
         "dual_sim": 0.500034766175005,
         "fc": 4.341443747983894,
         "four_g": 0.49966246736236386,
         "int_memory": 18.145714955206856,
         "m_dep": 0.2884155496235117,
         "mobile_wt": 35.39965489638835,
         "n_cores": 2.2878367180426604,
         "pc": 6.06431494134778,
         "px_height": 443.7808108064386,
         "px_width": 432.19944694633796,
         "ram": 1084.7320436099494,
         "sc_h": 4.213245004356306,
         "sc_w": 4.3563976058264045,
         "talk_time": 5.463955197766688,
         "three_g": 0.42627292231873126,
         "touch_screen": 0.500116044562674,
         "wifi": 0.5000760322381083,
         "price_range": 1.118313602106461,
         "_deepnote_index_column": "std"
        },
        {
         "battery_power": 501,
         "blue": 0,
         "clock_speed": 0.5,
         "dual_sim": 0,
         "fc": 0,
         "four_g": 0,
         "int_memory": 2,
         "m_dep": 0.1,
         "mobile_wt": 80,
         "n_cores": 1,
         "pc": 0,
         "px_height": 0,
         "px_width": 500,
         "ram": 256,
         "sc_h": 5,
         "sc_w": 0,
         "talk_time": 2,
         "three_g": 0,
         "touch_screen": 0,
         "wifi": 0,
         "price_range": 0,
         "_deepnote_index_column": "min"
        },
        {
         "battery_power": 851.75,
         "blue": 0,
         "clock_speed": 0.7,
         "dual_sim": 0,
         "fc": 1,
         "four_g": 0,
         "int_memory": 16,
         "m_dep": 0.2,
         "mobile_wt": 109,
         "n_cores": 3,
         "pc": 5,
         "px_height": 282.75,
         "px_width": 874.75,
         "ram": 1207.5,
         "sc_h": 9,
         "sc_w": 2,
         "talk_time": 6,
         "three_g": 1,
         "touch_screen": 0,
         "wifi": 0,
         "price_range": 0.75,
         "_deepnote_index_column": "25%"
        },
        {
         "battery_power": 1226,
         "blue": 0,
         "clock_speed": 1.5,
         "dual_sim": 1,
         "fc": 3,
         "four_g": 1,
         "int_memory": 32,
         "m_dep": 0.5,
         "mobile_wt": 141,
         "n_cores": 4,
         "pc": 10,
         "px_height": 564,
         "px_width": 1247,
         "ram": 2146.5,
         "sc_h": 12,
         "sc_w": 5,
         "talk_time": 11,
         "three_g": 1,
         "touch_screen": 1,
         "wifi": 1,
         "price_range": 1.5,
         "_deepnote_index_column": "50%"
        },
        {
         "battery_power": 1615.25,
         "blue": 1,
         "clock_speed": 2.2,
         "dual_sim": 1,
         "fc": 7,
         "four_g": 1,
         "int_memory": 48,
         "m_dep": 0.8,
         "mobile_wt": 170,
         "n_cores": 7,
         "pc": 15,
         "px_height": 947.25,
         "px_width": 1633,
         "ram": 3064.5,
         "sc_h": 16,
         "sc_w": 9,
         "talk_time": 16,
         "three_g": 1,
         "touch_screen": 1,
         "wifi": 1,
         "price_range": 2.25,
         "_deepnote_index_column": "75%"
        },
        {
         "battery_power": 1998,
         "blue": 1,
         "clock_speed": 3,
         "dual_sim": 1,
         "fc": 19,
         "four_g": 1,
         "int_memory": 64,
         "m_dep": 1,
         "mobile_wt": 200,
         "n_cores": 8,
         "pc": 20,
         "px_height": 1960,
         "px_width": 1998,
         "ram": 3998,
         "sc_h": 19,
         "sc_w": 18,
         "talk_time": 20,
         "three_g": 1,
         "touch_screen": 1,
         "wifi": 1,
         "price_range": 3,
         "_deepnote_index_column": "max"
        }
       ]
      },
      "text/plain": "       battery_power       blue  clock_speed     dual_sim           fc  \\\ncount    2000.000000  2000.0000  2000.000000  2000.000000  2000.000000   \nmean     1238.518500     0.4950     1.522250     0.509500     4.309500   \nstd       439.418206     0.5001     0.816004     0.500035     4.341444   \nmin       501.000000     0.0000     0.500000     0.000000     0.000000   \n25%       851.750000     0.0000     0.700000     0.000000     1.000000   \n50%      1226.000000     0.0000     1.500000     1.000000     3.000000   \n75%      1615.250000     1.0000     2.200000     1.000000     7.000000   \nmax      1998.000000     1.0000     3.000000     1.000000    19.000000   \n\n            four_g   int_memory        m_dep    mobile_wt      n_cores  ...  \\\ncount  2000.000000  2000.000000  2000.000000  2000.000000  2000.000000  ...   \nmean      0.521500    32.046500     0.501750   140.249000     4.520500  ...   \nstd       0.499662    18.145715     0.288416    35.399655     2.287837  ...   \nmin       0.000000     2.000000     0.100000    80.000000     1.000000  ...   \n25%       0.000000    16.000000     0.200000   109.000000     3.000000  ...   \n50%       1.000000    32.000000     0.500000   141.000000     4.000000  ...   \n75%       1.000000    48.000000     0.800000   170.000000     7.000000  ...   \nmax       1.000000    64.000000     1.000000   200.000000     8.000000  ...   \n\n         px_height     px_width          ram         sc_h         sc_w  \\\ncount  2000.000000  2000.000000  2000.000000  2000.000000  2000.000000   \nmean    645.108000  1251.515500  2124.213000    12.306500     5.767000   \nstd     443.780811   432.199447  1084.732044     4.213245     4.356398   \nmin       0.000000   500.000000   256.000000     5.000000     0.000000   \n25%     282.750000   874.750000  1207.500000     9.000000     2.000000   \n50%     564.000000  1247.000000  2146.500000    12.000000     5.000000   \n75%     947.250000  1633.000000  3064.500000    16.000000     9.000000   \nmax    1960.000000  1998.000000  3998.000000    19.000000    18.000000   \n\n         talk_time      three_g  touch_screen         wifi  price_range  \ncount  2000.000000  2000.000000   2000.000000  2000.000000  2000.000000  \nmean     11.011000     0.761500      0.503000     0.507000     1.500000  \nstd       5.463955     0.426273      0.500116     0.500076     1.118314  \nmin       2.000000     0.000000      0.000000     0.000000     0.000000  \n25%       6.000000     1.000000      0.000000     0.000000     0.750000  \n50%      11.000000     1.000000      1.000000     1.000000     1.500000  \n75%      16.000000     1.000000      1.000000     1.000000     2.250000  \nmax      20.000000     1.000000      1.000000     1.000000     3.000000  \n\n[8 rows x 21 columns]",
      "text/html": "<div>\n<style scoped>\n    .dataframe tbody tr th:only-of-type {\n        vertical-align: middle;\n    }\n\n    .dataframe tbody tr th {\n        vertical-align: top;\n    }\n\n    .dataframe thead th {\n        text-align: right;\n    }\n</style>\n<table border=\"1\" class=\"dataframe\">\n  <thead>\n    <tr style=\"text-align: right;\">\n      <th></th>\n      <th>battery_power</th>\n      <th>blue</th>\n      <th>clock_speed</th>\n      <th>dual_sim</th>\n      <th>fc</th>\n      <th>four_g</th>\n      <th>int_memory</th>\n      <th>m_dep</th>\n      <th>mobile_wt</th>\n      <th>n_cores</th>\n      <th>...</th>\n      <th>px_height</th>\n      <th>px_width</th>\n      <th>ram</th>\n      <th>sc_h</th>\n      <th>sc_w</th>\n      <th>talk_time</th>\n      <th>three_g</th>\n      <th>touch_screen</th>\n      <th>wifi</th>\n      <th>price_range</th>\n    </tr>\n  </thead>\n  <tbody>\n    <tr>\n      <th>count</th>\n      <td>2000.000000</td>\n      <td>2000.0000</td>\n      <td>2000.000000</td>\n      <td>2000.000000</td>\n      <td>2000.000000</td>\n      <td>2000.000000</td>\n      <td>2000.000000</td>\n      <td>2000.000000</td>\n      <td>2000.000000</td>\n      <td>2000.000000</td>\n      <td>...</td>\n      <td>2000.000000</td>\n      <td>2000.000000</td>\n      <td>2000.000000</td>\n      <td>2000.000000</td>\n      <td>2000.000000</td>\n      <td>2000.000000</td>\n      <td>2000.000000</td>\n      <td>2000.000000</td>\n      <td>2000.000000</td>\n      <td>2000.000000</td>\n    </tr>\n    <tr>\n      <th>mean</th>\n      <td>1238.518500</td>\n      <td>0.4950</td>\n      <td>1.522250</td>\n      <td>0.509500</td>\n      <td>4.309500</td>\n      <td>0.521500</td>\n      <td>32.046500</td>\n      <td>0.501750</td>\n      <td>140.249000</td>\n      <td>4.520500</td>\n      <td>...</td>\n      <td>645.108000</td>\n      <td>1251.515500</td>\n      <td>2124.213000</td>\n      <td>12.306500</td>\n      <td>5.767000</td>\n      <td>11.011000</td>\n      <td>0.761500</td>\n      <td>0.503000</td>\n      <td>0.507000</td>\n      <td>1.500000</td>\n    </tr>\n    <tr>\n      <th>std</th>\n      <td>439.418206</td>\n      <td>0.5001</td>\n      <td>0.816004</td>\n      <td>0.500035</td>\n      <td>4.341444</td>\n      <td>0.499662</td>\n      <td>18.145715</td>\n      <td>0.288416</td>\n      <td>35.399655</td>\n      <td>2.287837</td>\n      <td>...</td>\n      <td>443.780811</td>\n      <td>432.199447</td>\n      <td>1084.732044</td>\n      <td>4.213245</td>\n      <td>4.356398</td>\n      <td>5.463955</td>\n      <td>0.426273</td>\n      <td>0.500116</td>\n      <td>0.500076</td>\n      <td>1.118314</td>\n    </tr>\n    <tr>\n      <th>min</th>\n      <td>501.000000</td>\n      <td>0.0000</td>\n      <td>0.500000</td>\n      <td>0.000000</td>\n      <td>0.000000</td>\n      <td>0.000000</td>\n      <td>2.000000</td>\n      <td>0.100000</td>\n      <td>80.000000</td>\n      <td>1.000000</td>\n      <td>...</td>\n      <td>0.000000</td>\n      <td>500.000000</td>\n      <td>256.000000</td>\n      <td>5.000000</td>\n      <td>0.000000</td>\n      <td>2.000000</td>\n      <td>0.000000</td>\n      <td>0.000000</td>\n      <td>0.000000</td>\n      <td>0.000000</td>\n    </tr>\n    <tr>\n      <th>25%</th>\n      <td>851.750000</td>\n      <td>0.0000</td>\n      <td>0.700000</td>\n      <td>0.000000</td>\n      <td>1.000000</td>\n      <td>0.000000</td>\n      <td>16.000000</td>\n      <td>0.200000</td>\n      <td>109.000000</td>\n      <td>3.000000</td>\n      <td>...</td>\n      <td>282.750000</td>\n      <td>874.750000</td>\n      <td>1207.500000</td>\n      <td>9.000000</td>\n      <td>2.000000</td>\n      <td>6.000000</td>\n      <td>1.000000</td>\n      <td>0.000000</td>\n      <td>0.000000</td>\n      <td>0.750000</td>\n    </tr>\n    <tr>\n      <th>50%</th>\n      <td>1226.000000</td>\n      <td>0.0000</td>\n      <td>1.500000</td>\n      <td>1.000000</td>\n      <td>3.000000</td>\n      <td>1.000000</td>\n      <td>32.000000</td>\n      <td>0.500000</td>\n      <td>141.000000</td>\n      <td>4.000000</td>\n      <td>...</td>\n      <td>564.000000</td>\n      <td>1247.000000</td>\n      <td>2146.500000</td>\n      <td>12.000000</td>\n      <td>5.000000</td>\n      <td>11.000000</td>\n      <td>1.000000</td>\n      <td>1.000000</td>\n      <td>1.000000</td>\n      <td>1.500000</td>\n    </tr>\n    <tr>\n      <th>75%</th>\n      <td>1615.250000</td>\n      <td>1.0000</td>\n      <td>2.200000</td>\n      <td>1.000000</td>\n      <td>7.000000</td>\n      <td>1.000000</td>\n      <td>48.000000</td>\n      <td>0.800000</td>\n      <td>170.000000</td>\n      <td>7.000000</td>\n      <td>...</td>\n      <td>947.250000</td>\n      <td>1633.000000</td>\n      <td>3064.500000</td>\n      <td>16.000000</td>\n      <td>9.000000</td>\n      <td>16.000000</td>\n      <td>1.000000</td>\n      <td>1.000000</td>\n      <td>1.000000</td>\n      <td>2.250000</td>\n    </tr>\n    <tr>\n      <th>max</th>\n      <td>1998.000000</td>\n      <td>1.0000</td>\n      <td>3.000000</td>\n      <td>1.000000</td>\n      <td>19.000000</td>\n      <td>1.000000</td>\n      <td>64.000000</td>\n      <td>1.000000</td>\n      <td>200.000000</td>\n      <td>8.000000</td>\n      <td>...</td>\n      <td>1960.000000</td>\n      <td>1998.000000</td>\n      <td>3998.000000</td>\n      <td>19.000000</td>\n      <td>18.000000</td>\n      <td>20.000000</td>\n      <td>1.000000</td>\n      <td>1.000000</td>\n      <td>1.000000</td>\n      <td>3.000000</td>\n    </tr>\n  </tbody>\n</table>\n<p>8 rows × 21 columns</p>\n</div>"
     },
     "metadata": {}
    }
   ]
  },
  {
   "cell_type": "markdown",
   "source": "## 2.5 Identify the target variables. Separate the data front the target such that the dataset is in the form of (X,y) or (Features, Label). Discretize the target variable or perform one-hot encoding or label encoding on the target or any other as and if required.\n\n",
   "metadata": {
    "cell_id": "00021-d9905d14-ad1c-4868-8631-bd5d858cae90",
    "deepnote_cell_type": "markdown",
    "deepnote_cell_height": 230
   }
  },
  {
   "cell_type": "code",
   "metadata": {
    "cell_id": "00022-1301a6c2-16aa-45de-956e-187ef43b536e",
    "deepnote_to_be_reexecuted": false,
    "source_hash": "3d184090",
    "execution_start": 1652546607617,
    "execution_millis": 505,
    "deepnote_cell_type": "code",
    "deepnote_cell_height": 279
   },
   "source": "##---------Type the code below this line------------------##\nfrom sklearn.preprocessing import StandardScaler\nfrom sklearn.model_selection import train_test_split\n\nscaler = StandardScaler()\nX = data.drop('price_range',axis=1)\ny = data['price_range']\n\nscaler.fit(X)\nX_transformed = scaler.transform(X)\n\nX_train,X_test,y_train,y_test = train_test_split(X_transformed,y,test_size=0.3, random_state=31)",
   "execution_count": 14,
   "outputs": []
  },
  {
   "cell_type": "markdown",
   "source": "# 3. Implement Machine Learning Techniques",
   "metadata": {
    "cell_id": "00023-90336aef-4f86-41b3-b149-5e74e3fcd352",
    "deepnote_cell_type": "markdown",
    "deepnote_cell_height": 82
   }
  },
  {
   "cell_type": "markdown",
   "source": "## 3.1 ML Technique Linear Regression",
   "metadata": {
    "cell_id": "00025-0e0589e8-edb8-4104-9b20-ee8dd3c72056",
    "deepnote_cell_type": "markdown",
    "deepnote_cell_height": 70
   }
  },
  {
   "cell_type": "code",
   "metadata": {
    "cell_id": "00024-92a2b890-c6ad-4f61-8984-477febb64928",
    "deepnote_to_be_reexecuted": false,
    "source_hash": "2154df08",
    "execution_start": 1652546608129,
    "execution_millis": 450,
    "deepnote_cell_type": "code",
    "deepnote_cell_height": 189
   },
   "source": "##---------Type the code below this line------------------##\nfrom sklearn.linear_model import LinearRegression\nfrom sklearn.metrics import accuracy_score\nfrom sklearn.metrics import classification_report\nfrom sklearn.metrics import multilabel_confusion_matrix\nfrom sklearn.ensemble import RandomForestRegressor\nfrom sklearn.metrics import mean_absolute_error",
   "execution_count": 15,
   "outputs": []
  },
  {
   "cell_type": "code",
   "metadata": {
    "cell_id": "00026-16a7739c-b47d-4c91-a8ce-f250eaadb08e",
    "deepnote_to_be_reexecuted": false,
    "source_hash": "4105e36f",
    "execution_start": 1652546608588,
    "execution_millis": 154,
    "deepnote_cell_type": "code",
    "deepnote_cell_height": 172.1875,
    "deepnote_output_heights": [
     21.1875
    ]
   },
   "source": "##---------Type the code below this line------------------##\nlr=LinearRegression()\nlr.fit(X_train,y_train)\n",
   "execution_count": 16,
   "outputs": [
    {
     "output_type": "execute_result",
     "execution_count": 16,
     "data": {
      "text/plain": "LinearRegression()"
     },
     "metadata": {}
    }
   ]
  },
  {
   "cell_type": "code",
   "metadata": {
    "cell_id": "e22307592b834565a3969c00f9c2b5f3",
    "tags": [],
    "deepnote_to_be_reexecuted": false,
    "source_hash": "68a0399b",
    "execution_start": 1652546608631,
    "execution_millis": 115,
    "deepnote_cell_type": "code",
    "deepnote_cell_height": 118.1875,
    "deepnote_output_heights": [
     21.1875
    ]
   },
   "source": "lr.score(X_test,y_test)",
   "execution_count": 17,
   "outputs": [
    {
     "output_type": "execute_result",
     "execution_count": 17,
     "data": {
      "text/plain": "0.9153796136870499"
     },
     "metadata": {}
    }
   ]
  },
  {
   "cell_type": "markdown",
   "source": "Linear&nbsp;Regression&nbsp;model&nbsp;has&nbsp;a&nbsp;accuracy&nbsp;of&nbsp;91%&nbsp;which&nbsp;is&nbsp;also&nbsp;good.",
   "metadata": {
    "cell_id": "8496e3678feb4d7bb636079e2e01e2dc",
    "tags": [],
    "is_collapsed": false,
    "deepnote_cell_type": "text-cell-p"
   }
  },
  {
   "cell_type": "code",
   "metadata": {
    "cell_id": "61aa1383fe0740e59fcbf6cbb236af67",
    "tags": [],
    "deepnote_to_be_reexecuted": false,
    "source_hash": "7b768e6a",
    "execution_start": 1652546608675,
    "execution_millis": 68,
    "deepnote_cell_type": "code",
    "deepnote_cell_height": 81
   },
   "source": "y_pred=lr.predict(X_test)",
   "execution_count": 18,
   "outputs": []
  },
  {
   "cell_type": "code",
   "metadata": {
    "cell_id": "57fa58621af14441b81799cedb483452",
    "tags": [],
    "deepnote_to_be_reexecuted": false,
    "source_hash": "4e1b36c4",
    "execution_start": 1652546608743,
    "execution_millis": 865,
    "deepnote_cell_type": "code",
    "deepnote_cell_height": 399.1875,
    "deepnote_output_heights": [
     21.1875,
     250
    ]
   },
   "source": "plt.scatter(y_test,y_pred)",
   "execution_count": 19,
   "outputs": [
    {
     "output_type": "execute_result",
     "execution_count": 19,
     "data": {
      "text/plain": "<matplotlib.collections.PathCollection at 0x7fd0b62d2a50>"
     },
     "metadata": {}
    },
    {
     "data": {
      "text/plain": "<Figure size 432x288 with 1 Axes>",
      "image/png": "[encoded data removed]"
     },
     "metadata": {
      "needs_background": "light",
      "image/png": {
       "width": 370,
       "height": 248
      }
     },
     "output_type": "display_data"
    }
   ]
  },
  {
   "cell_type": "code",
   "metadata": {
    "cell_id": "c23c053473d24de181607ec17cdc11a1",
    "tags": [],
    "deepnote_to_be_reexecuted": false,
    "source_hash": "77235cc5",
    "execution_start": 1652546609613,
    "execution_millis": 499,
    "deepnote_cell_type": "code",
    "deepnote_cell_height": 399.1875,
    "deepnote_output_heights": [
     21.1875,
     250
    ]
   },
   "source": "plt.plot(y_test,y_pred)",
   "execution_count": 20,
   "outputs": [
    {
     "output_type": "execute_result",
     "execution_count": 20,
     "data": {
      "text/plain": "[<matplotlib.lines.Line2D at 0x7fd0b4418690>]"
     },
     "metadata": {}
    },
    {
     "data": {
      "text/plain": "<Figure size 432x288 with 1 Axes>",
      "image/png": "[encoded data removed]"
     },
     "metadata": {
      "needs_background": "light",
      "image/png": {
       "width": 370,
       "height": 248
      }
     },
     "output_type": "display_data"
    }
   ]
  },
  {
   "cell_type": "markdown",
   "source": "## 3.2 ML Technique Random Forest",
   "metadata": {
    "cell_id": "00027-ccaad430-f919-4833-a056-90a783c09f67",
    "deepnote_cell_type": "markdown",
    "deepnote_cell_height": 70
   }
  },
  {
   "cell_type": "code",
   "metadata": {
    "cell_id": "00028-377698d7-066c-4be6-9c8b-6f2ad508aedc",
    "deepnote_to_be_reexecuted": false,
    "source_hash": "eaa139b9",
    "execution_start": 1652546610117,
    "execution_millis": 1452,
    "deepnote_cell_type": "code",
    "deepnote_cell_height": 202
   },
   "source": "##---------Type the code below this line------------------##\nforest_model = RandomForestRegressor(random_state=1)\nforest_model.fit(X_train, y_train)\nmelb_preds = forest_model.predict(X_test)\nprint(mean_absolute_error(y_test, melb_preds))\n",
   "execution_count": 21,
   "outputs": [
    {
     "name": "stdout",
     "text": "0.17698333333333333\n",
     "output_type": "stream"
    }
   ]
  },
  {
   "cell_type": "code",
   "metadata": {
    "cell_id": "411a195c0127440e8ac0fc14cad27ed6",
    "tags": [],
    "deepnote_to_be_reexecuted": false,
    "source_hash": "ff9afffa",
    "execution_start": 1652546611577,
    "execution_millis": 81,
    "deepnote_cell_type": "code",
    "deepnote_cell_height": 118.1875,
    "deepnote_output_heights": [
     21.1875
    ]
   },
   "source": "forest_model.score(X_test, y_test)",
   "execution_count": 22,
   "outputs": [
    {
     "output_type": "execute_result",
     "execution_count": 22,
     "data": {
      "text/plain": "0.9398583463835892"
     },
     "metadata": {}
    }
   ]
  },
  {
   "cell_type": "code",
   "metadata": {
    "cell_id": "618ef03dab2344f9be8e60f7759dc6c9",
    "tags": [],
    "deepnote_to_be_reexecuted": false,
    "source_hash": "4e1b0e2e",
    "execution_start": 1652546611665,
    "execution_millis": 65,
    "deepnote_cell_type": "code",
    "deepnote_cell_height": 81
   },
   "source": "y_pred=forest_model.predict(X_test)",
   "execution_count": 23,
   "outputs": []
  },
  {
   "cell_type": "code",
   "metadata": {
    "cell_id": "feeda0010fe4477aafe00d3e244e20b7",
    "tags": [],
    "deepnote_to_be_reexecuted": false,
    "source_hash": "4e1b36c4",
    "execution_start": 1652546611803,
    "execution_millis": 330,
    "deepnote_cell_type": "code",
    "deepnote_cell_height": 399.1875,
    "deepnote_output_heights": [
     21.1875,
     250
    ]
   },
   "source": "plt.scatter(y_test,y_pred)",
   "execution_count": 24,
   "outputs": [
    {
     "output_type": "execute_result",
     "execution_count": 24,
     "data": {
      "text/plain": "<matplotlib.collections.PathCollection at 0x7fd0b43d3750>"
     },
     "metadata": {}
    },
    {
     "data": {
      "text/plain": "<Figure size 432x288 with 1 Axes>",
      "image/png": "[encoded data removed]"
     },
     "metadata": {
      "needs_background": "light",
      "image/png": {
       "width": 372,
       "height": 248
      }
     },
     "output_type": "display_data"
    }
   ]
  },
  {
   "cell_type": "code",
   "metadata": {
    "cell_id": "8e5be5cfe97b45dcb8ee998aaa403a42",
    "tags": [],
    "deepnote_to_be_reexecuted": false,
    "source_hash": "77235cc5",
    "execution_start": 1652546612144,
    "execution_millis": 495,
    "deepnote_cell_type": "code",
    "deepnote_cell_height": 399.1875,
    "deepnote_output_heights": [
     21.1875,
     250
    ]
   },
   "source": "plt.plot(y_test,y_pred)",
   "execution_count": 25,
   "outputs": [
    {
     "output_type": "execute_result",
     "execution_count": 25,
     "data": {
      "text/plain": "[<matplotlib.lines.Line2D at 0x7fd0b41490d0>]"
     },
     "metadata": {}
    },
    {
     "data": {
      "text/plain": "<Figure size 432x288 with 1 Axes>",
      "image/png": "[encoded data removed]"
     },
     "metadata": {
      "needs_background": "light",
      "image/png": {
       "width": 372,
       "height": 248
      }
     },
     "output_type": "display_data"
    }
   ]
  },
  {
   "cell_type": "markdown",
   "source": "## 4. Conclude \n\n### 4.1 Compare the performance of the ML techniques used.\n\nplot accuracy or any other performance metric to compare the ML algo.\n",
   "metadata": {
    "cell_id": "00029-2b4f13e4-7ebd-455c-b88d-f1dc6c69a896",
    "deepnote_cell_type": "markdown",
    "deepnote_cell_height": 156.390625
   }
  },
  {
   "cell_type": "code",
   "metadata": {
    "cell_id": "00030-495aee0c-de8c-4d2b-b220-4cd36804e2b1",
    "deepnote_to_be_reexecuted": false,
    "source_hash": "7befe849",
    "execution_start": 1652546612693,
    "execution_millis": 122093469,
    "deepnote_cell_type": "code",
    "deepnote_cell_height": 81
   },
   "source": "##---------Type the code below this line------------------##",
   "execution_count": 26,
   "outputs": []
  },
  {
   "cell_type": "markdown",
   "source": "From the results its clear that **Random Forest Algorithm has the best accuracy** among the other algorithms.\n\n| Classification Algorithm | Accuracy (%) |\n|---|---|\n|Random Forest       |93.00%|\n|Linear Regression   |91.00%|\n\nSo from the above techniques used we can conclude that Random Foreset is better than Linear Regression as it shows the accuracy of 93.00% on contrast of Linear Regression that shows 91.00%",
   "metadata": {
    "cell_id": "00031-ee570d56-3bd9-45a4-89b8-571a6f05b253",
    "owner_user_id": "6f72a95c-4c7b-481d-be21-f7dec420982c",
    "deepnote_cell_type": "markdown",
    "deepnote_cell_height": 184.390625
   }
  },
  {
   "cell_type": "markdown",
   "source": "<a style='text-decoration:none;line-height:16px;display:flex;color:#5B5B62;padding:10px;justify-content:end;' href='https://deepnote.com?utm_source=created-in-deepnote-cell&projectId=a30eed55-7ae6-4536-973e-c572d6e02c9d' target=\"_blank\">\n<img alt='Created in deepnote.com' style='display:inline;max-height:16px;margin:0px;margin-right:7.5px;' src='data:image/svg+xml;base64,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' > </img>\nCreated in <span style='font-weight:600;margin-left:4px;'>Deepnote</span></a>",
   "metadata": {
    "tags": [],
    "created_in_deepnote_cell": true,
    "deepnote_cell_type": "markdown"
   }
  }
 ],
 "nbformat": 4,
 "nbformat_minor": 5,
 "metadata": {
  "kernelspec": {
   "display_name": "Python 3 (ipykernel)",
   "language": "python",
   "name": "python3"
  },
  "language_info": {
   "codemirror_mode": {
    "name": "ipython",
    "version": 3
   },
   "file_extension": ".py",
   "mimetype": "text/x-python",
   "name": "python",
   "nbconvert_exporter": "python",
   "pygments_lexer": "ipython3",
   "version": "3.8.10"
  },
  "deepnote_notebook_id": "5748065d-6c8a-49e2-a4b5-e5ba49582590",
  "deepnote": {},
  "deepnote_execution_queue": []
 }
}